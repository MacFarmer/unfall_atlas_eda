{
  "nbformat": 4,
  "nbformat_minor": 0,
  "metadata": {
    "colab": {
      "name": "Unfallatlas EDA.ipynb",
      "provenance": [],
      "collapsed_sections": []
    },
    "kernelspec": {
      "name": "python3",
      "display_name": "Python 3"
    },
    "language_info": {
      "name": "python"
    }
  },
  "cells": [
    {
      "cell_type": "code",
      "execution_count": 842,
      "metadata": {
        "id": "RfeUC-34G1No"
      },
      "outputs": [],
      "source": [
        "import pandas as pd\n",
        "import numpy as np\n",
        "import seaborn as sns\n",
        "import matplotlib.pyplot as plt"
      ]
    },
    {
      "cell_type": "code",
      "source": [
        "from google.colab import drive\n",
        "drive.mount('/content/drive')"
      ],
      "metadata": {
        "colab": {
          "base_uri": "https://localhost:8080/"
        },
        "id": "yKHq9ToBtlNk",
        "outputId": "907f389f-d53f-466e-9355-5d47d12dabc3"
      },
      "execution_count": 843,
      "outputs": [
        {
          "output_type": "stream",
          "name": "stdout",
          "text": [
            "Drive already mounted at /content/drive; to attempt to forcibly remount, call drive.mount(\"/content/drive\", force_remount=True).\n"
          ]
        }
      ]
    },
    {
      "cell_type": "code",
      "source": [
        "%cd /content/drive/My Drive/atlas"
      ],
      "metadata": {
        "colab": {
          "base_uri": "https://localhost:8080/"
        },
        "id": "DUu2szYDvhhj",
        "outputId": "8427fb36-e28a-4950-aa6c-ae37eee3ce61"
      },
      "execution_count": 844,
      "outputs": [
        {
          "output_type": "stream",
          "name": "stdout",
          "text": [
            "/content/drive/My Drive/atlas\n"
          ]
        }
      ]
    },
    {
      "cell_type": "code",
      "source": [
        "traffic = pd.read_csv('Unfallorte2020_LinRef.csv', sep=';', dtype={'ULAND': object, 'UKREIS': object, 'UGEMEINDE': object})"
      ],
      "metadata": {
        "id": "NDm-wB1MHJlc"
      },
      "execution_count": 845,
      "outputs": []
    },
    {
      "cell_type": "code",
      "source": [
        "traffic"
      ],
      "metadata": {
        "colab": {
          "base_uri": "https://localhost:8080/",
          "height": 488
        },
        "id": "ZJZQt2UqXJT5",
        "outputId": "88083bfb-9e4a-457e-83cd-6188aaa839ee"
      },
      "execution_count": 846,
      "outputs": [
        {
          "output_type": "execute_result",
          "data": {
            "text/plain": [
              "        OBJECTID   UIDENTSTLAE ULAND  UREGBEZ UKREIS UGEMEINDE  UJAHR  UMONAT  \\\n",
              "0              1  1.220012e+19    12        0     68       468   2020       1   \n",
              "1              2  1.220011e+19    12        0     61       112   2020       1   \n",
              "2              3  1.220011e+19    12        0     67       144   2020       1   \n",
              "3              4  1.220013e+19    12        0     69       076   2020       1   \n",
              "4              5  1.220012e+19    12        0     62       224   2020       1   \n",
              "...          ...           ...   ...      ...    ...       ...    ...     ...   \n",
              "237989    237990  7.201218e+18    07        1     38       045   2020      12   \n",
              "237990    237991  7.201205e+18    07        3     32       049   2020      12   \n",
              "237991    237992  7.201215e+18    07        1     41       075   2020      12   \n",
              "237992    237993  7.201120e+18    07        3     14       000   2020      11   \n",
              "237993    237994  7.201211e+18    07        3     35       022   2020      12   \n",
              "\n",
              "        USTUNDE  UWOCHENTAG  ...  IstPKW  IstFuss  IstKrad  IstGkfz  \\\n",
              "0            11           5  ...       0        0        0        1   \n",
              "1            17           2  ...       1        1        0        0   \n",
              "2            16           5  ...       1        0        0        0   \n",
              "3            11           6  ...       1        0        0        0   \n",
              "4            16           6  ...       1        0        0        0   \n",
              "...         ...         ...  ...     ...      ...      ...      ...   \n",
              "237989       17           6  ...       1        0        1        0   \n",
              "237990        8           7  ...       1        0        0        0   \n",
              "237991       17           3  ...       1        0        0        0   \n",
              "237992        7           6  ...       1        1        0        0   \n",
              "237993       15           6  ...       1        0        0        0   \n",
              "\n",
              "        IstSonstige                 LINREFX                  LINREFY  \\\n",
              "0                 0  735840,436700000430000  5887204,801599999900000   \n",
              "1                 0  814106,991899999790000  5811960,550300000200000   \n",
              "2                 0  845207,375699999740000  5811964,177100000900000   \n",
              "3                 0  756844,833999999800000  5787696,062999999200000   \n",
              "4                 0  793616,489599999970000  5735748,046199999700000   \n",
              "...             ...                     ...                      ...   \n",
              "237989            0  391675,607900000180000  5589115,281999999700000   \n",
              "237990            0  438750,044599999670000  5484883,899299999700000   \n",
              "237991            0  400274,490199999880000  5575067,228599999100000   \n",
              "237992            0  454090,255400000140000  5482031,062799999500000   \n",
              "237993            0  396112,076399999670000  5474337,654500000200000   \n",
              "\n",
              "                 XGCSWGS84           YGCSWGS84  STRZUSTAND  \n",
              "0       12,521519179000052  53,082132832000070           0  \n",
              "1       13,614608653000062  52,367677682000078           0  \n",
              "2       14,069661201000031  52,349021128000061           1  \n",
              "3       12,757074839000040  52,179829995000034           1  \n",
              "4       13,249132448000069  51,695730215000026           0  \n",
              "...                    ...                 ...         ...  \n",
              "237989   7,474374137000041  50,444042102000026           1  \n",
              "237990   8,153857415000061  49,513483991000044           1  \n",
              "237991   7,599165158000062  50,319263897000042           1  \n",
              "237992   8,366091643000061  49,489180504000046           0  \n",
              "237993   7,567753367000023  49,412845294000078           1  \n",
              "\n",
              "[237994 rows x 25 columns]"
            ],
            "text/html": [
              "\n",
              "  <div id=\"df-6c28c3bb-859c-4c12-86dc-8b8e93f00458\">\n",
              "    <div class=\"colab-df-container\">\n",
              "      <div>\n",
              "<style scoped>\n",
              "    .dataframe tbody tr th:only-of-type {\n",
              "        vertical-align: middle;\n",
              "    }\n",
              "\n",
              "    .dataframe tbody tr th {\n",
              "        vertical-align: top;\n",
              "    }\n",
              "\n",
              "    .dataframe thead th {\n",
              "        text-align: right;\n",
              "    }\n",
              "</style>\n",
              "<table border=\"1\" class=\"dataframe\">\n",
              "  <thead>\n",
              "    <tr style=\"text-align: right;\">\n",
              "      <th></th>\n",
              "      <th>OBJECTID</th>\n",
              "      <th>UIDENTSTLAE</th>\n",
              "      <th>ULAND</th>\n",
              "      <th>UREGBEZ</th>\n",
              "      <th>UKREIS</th>\n",
              "      <th>UGEMEINDE</th>\n",
              "      <th>UJAHR</th>\n",
              "      <th>UMONAT</th>\n",
              "      <th>USTUNDE</th>\n",
              "      <th>UWOCHENTAG</th>\n",
              "      <th>...</th>\n",
              "      <th>IstPKW</th>\n",
              "      <th>IstFuss</th>\n",
              "      <th>IstKrad</th>\n",
              "      <th>IstGkfz</th>\n",
              "      <th>IstSonstige</th>\n",
              "      <th>LINREFX</th>\n",
              "      <th>LINREFY</th>\n",
              "      <th>XGCSWGS84</th>\n",
              "      <th>YGCSWGS84</th>\n",
              "      <th>STRZUSTAND</th>\n",
              "    </tr>\n",
              "  </thead>\n",
              "  <tbody>\n",
              "    <tr>\n",
              "      <th>0</th>\n",
              "      <td>1</td>\n",
              "      <td>1.220012e+19</td>\n",
              "      <td>12</td>\n",
              "      <td>0</td>\n",
              "      <td>68</td>\n",
              "      <td>468</td>\n",
              "      <td>2020</td>\n",
              "      <td>1</td>\n",
              "      <td>11</td>\n",
              "      <td>5</td>\n",
              "      <td>...</td>\n",
              "      <td>0</td>\n",
              "      <td>0</td>\n",
              "      <td>0</td>\n",
              "      <td>1</td>\n",
              "      <td>0</td>\n",
              "      <td>735840,436700000430000</td>\n",
              "      <td>5887204,801599999900000</td>\n",
              "      <td>12,521519179000052</td>\n",
              "      <td>53,082132832000070</td>\n",
              "      <td>0</td>\n",
              "    </tr>\n",
              "    <tr>\n",
              "      <th>1</th>\n",
              "      <td>2</td>\n",
              "      <td>1.220011e+19</td>\n",
              "      <td>12</td>\n",
              "      <td>0</td>\n",
              "      <td>61</td>\n",
              "      <td>112</td>\n",
              "      <td>2020</td>\n",
              "      <td>1</td>\n",
              "      <td>17</td>\n",
              "      <td>2</td>\n",
              "      <td>...</td>\n",
              "      <td>1</td>\n",
              "      <td>1</td>\n",
              "      <td>0</td>\n",
              "      <td>0</td>\n",
              "      <td>0</td>\n",
              "      <td>814106,991899999790000</td>\n",
              "      <td>5811960,550300000200000</td>\n",
              "      <td>13,614608653000062</td>\n",
              "      <td>52,367677682000078</td>\n",
              "      <td>0</td>\n",
              "    </tr>\n",
              "    <tr>\n",
              "      <th>2</th>\n",
              "      <td>3</td>\n",
              "      <td>1.220011e+19</td>\n",
              "      <td>12</td>\n",
              "      <td>0</td>\n",
              "      <td>67</td>\n",
              "      <td>144</td>\n",
              "      <td>2020</td>\n",
              "      <td>1</td>\n",
              "      <td>16</td>\n",
              "      <td>5</td>\n",
              "      <td>...</td>\n",
              "      <td>1</td>\n",
              "      <td>0</td>\n",
              "      <td>0</td>\n",
              "      <td>0</td>\n",
              "      <td>0</td>\n",
              "      <td>845207,375699999740000</td>\n",
              "      <td>5811964,177100000900000</td>\n",
              "      <td>14,069661201000031</td>\n",
              "      <td>52,349021128000061</td>\n",
              "      <td>1</td>\n",
              "    </tr>\n",
              "    <tr>\n",
              "      <th>3</th>\n",
              "      <td>4</td>\n",
              "      <td>1.220013e+19</td>\n",
              "      <td>12</td>\n",
              "      <td>0</td>\n",
              "      <td>69</td>\n",
              "      <td>076</td>\n",
              "      <td>2020</td>\n",
              "      <td>1</td>\n",
              "      <td>11</td>\n",
              "      <td>6</td>\n",
              "      <td>...</td>\n",
              "      <td>1</td>\n",
              "      <td>0</td>\n",
              "      <td>0</td>\n",
              "      <td>0</td>\n",
              "      <td>0</td>\n",
              "      <td>756844,833999999800000</td>\n",
              "      <td>5787696,062999999200000</td>\n",
              "      <td>12,757074839000040</td>\n",
              "      <td>52,179829995000034</td>\n",
              "      <td>1</td>\n",
              "    </tr>\n",
              "    <tr>\n",
              "      <th>4</th>\n",
              "      <td>5</td>\n",
              "      <td>1.220012e+19</td>\n",
              "      <td>12</td>\n",
              "      <td>0</td>\n",
              "      <td>62</td>\n",
              "      <td>224</td>\n",
              "      <td>2020</td>\n",
              "      <td>1</td>\n",
              "      <td>16</td>\n",
              "      <td>6</td>\n",
              "      <td>...</td>\n",
              "      <td>1</td>\n",
              "      <td>0</td>\n",
              "      <td>0</td>\n",
              "      <td>0</td>\n",
              "      <td>0</td>\n",
              "      <td>793616,489599999970000</td>\n",
              "      <td>5735748,046199999700000</td>\n",
              "      <td>13,249132448000069</td>\n",
              "      <td>51,695730215000026</td>\n",
              "      <td>0</td>\n",
              "    </tr>\n",
              "    <tr>\n",
              "      <th>...</th>\n",
              "      <td>...</td>\n",
              "      <td>...</td>\n",
              "      <td>...</td>\n",
              "      <td>...</td>\n",
              "      <td>...</td>\n",
              "      <td>...</td>\n",
              "      <td>...</td>\n",
              "      <td>...</td>\n",
              "      <td>...</td>\n",
              "      <td>...</td>\n",
              "      <td>...</td>\n",
              "      <td>...</td>\n",
              "      <td>...</td>\n",
              "      <td>...</td>\n",
              "      <td>...</td>\n",
              "      <td>...</td>\n",
              "      <td>...</td>\n",
              "      <td>...</td>\n",
              "      <td>...</td>\n",
              "      <td>...</td>\n",
              "      <td>...</td>\n",
              "    </tr>\n",
              "    <tr>\n",
              "      <th>237989</th>\n",
              "      <td>237990</td>\n",
              "      <td>7.201218e+18</td>\n",
              "      <td>07</td>\n",
              "      <td>1</td>\n",
              "      <td>38</td>\n",
              "      <td>045</td>\n",
              "      <td>2020</td>\n",
              "      <td>12</td>\n",
              "      <td>17</td>\n",
              "      <td>6</td>\n",
              "      <td>...</td>\n",
              "      <td>1</td>\n",
              "      <td>0</td>\n",
              "      <td>1</td>\n",
              "      <td>0</td>\n",
              "      <td>0</td>\n",
              "      <td>391675,607900000180000</td>\n",
              "      <td>5589115,281999999700000</td>\n",
              "      <td>7,474374137000041</td>\n",
              "      <td>50,444042102000026</td>\n",
              "      <td>1</td>\n",
              "    </tr>\n",
              "    <tr>\n",
              "      <th>237990</th>\n",
              "      <td>237991</td>\n",
              "      <td>7.201205e+18</td>\n",
              "      <td>07</td>\n",
              "      <td>3</td>\n",
              "      <td>32</td>\n",
              "      <td>049</td>\n",
              "      <td>2020</td>\n",
              "      <td>12</td>\n",
              "      <td>8</td>\n",
              "      <td>7</td>\n",
              "      <td>...</td>\n",
              "      <td>1</td>\n",
              "      <td>0</td>\n",
              "      <td>0</td>\n",
              "      <td>0</td>\n",
              "      <td>0</td>\n",
              "      <td>438750,044599999670000</td>\n",
              "      <td>5484883,899299999700000</td>\n",
              "      <td>8,153857415000061</td>\n",
              "      <td>49,513483991000044</td>\n",
              "      <td>1</td>\n",
              "    </tr>\n",
              "    <tr>\n",
              "      <th>237991</th>\n",
              "      <td>237992</td>\n",
              "      <td>7.201215e+18</td>\n",
              "      <td>07</td>\n",
              "      <td>1</td>\n",
              "      <td>41</td>\n",
              "      <td>075</td>\n",
              "      <td>2020</td>\n",
              "      <td>12</td>\n",
              "      <td>17</td>\n",
              "      <td>3</td>\n",
              "      <td>...</td>\n",
              "      <td>1</td>\n",
              "      <td>0</td>\n",
              "      <td>0</td>\n",
              "      <td>0</td>\n",
              "      <td>0</td>\n",
              "      <td>400274,490199999880000</td>\n",
              "      <td>5575067,228599999100000</td>\n",
              "      <td>7,599165158000062</td>\n",
              "      <td>50,319263897000042</td>\n",
              "      <td>1</td>\n",
              "    </tr>\n",
              "    <tr>\n",
              "      <th>237992</th>\n",
              "      <td>237993</td>\n",
              "      <td>7.201120e+18</td>\n",
              "      <td>07</td>\n",
              "      <td>3</td>\n",
              "      <td>14</td>\n",
              "      <td>000</td>\n",
              "      <td>2020</td>\n",
              "      <td>11</td>\n",
              "      <td>7</td>\n",
              "      <td>6</td>\n",
              "      <td>...</td>\n",
              "      <td>1</td>\n",
              "      <td>1</td>\n",
              "      <td>0</td>\n",
              "      <td>0</td>\n",
              "      <td>0</td>\n",
              "      <td>454090,255400000140000</td>\n",
              "      <td>5482031,062799999500000</td>\n",
              "      <td>8,366091643000061</td>\n",
              "      <td>49,489180504000046</td>\n",
              "      <td>0</td>\n",
              "    </tr>\n",
              "    <tr>\n",
              "      <th>237993</th>\n",
              "      <td>237994</td>\n",
              "      <td>7.201211e+18</td>\n",
              "      <td>07</td>\n",
              "      <td>3</td>\n",
              "      <td>35</td>\n",
              "      <td>022</td>\n",
              "      <td>2020</td>\n",
              "      <td>12</td>\n",
              "      <td>15</td>\n",
              "      <td>6</td>\n",
              "      <td>...</td>\n",
              "      <td>1</td>\n",
              "      <td>0</td>\n",
              "      <td>0</td>\n",
              "      <td>0</td>\n",
              "      <td>0</td>\n",
              "      <td>396112,076399999670000</td>\n",
              "      <td>5474337,654500000200000</td>\n",
              "      <td>7,567753367000023</td>\n",
              "      <td>49,412845294000078</td>\n",
              "      <td>1</td>\n",
              "    </tr>\n",
              "  </tbody>\n",
              "</table>\n",
              "<p>237994 rows × 25 columns</p>\n",
              "</div>\n",
              "      <button class=\"colab-df-convert\" onclick=\"convertToInteractive('df-6c28c3bb-859c-4c12-86dc-8b8e93f00458')\"\n",
              "              title=\"Convert this dataframe to an interactive table.\"\n",
              "              style=\"display:none;\">\n",
              "        \n",
              "  <svg xmlns=\"http://www.w3.org/2000/svg\" height=\"24px\"viewBox=\"0 0 24 24\"\n",
              "       width=\"24px\">\n",
              "    <path d=\"M0 0h24v24H0V0z\" fill=\"none\"/>\n",
              "    <path d=\"M18.56 5.44l.94 2.06.94-2.06 2.06-.94-2.06-.94-.94-2.06-.94 2.06-2.06.94zm-11 1L8.5 8.5l.94-2.06 2.06-.94-2.06-.94L8.5 2.5l-.94 2.06-2.06.94zm10 10l.94 2.06.94-2.06 2.06-.94-2.06-.94-.94-2.06-.94 2.06-2.06.94z\"/><path d=\"M17.41 7.96l-1.37-1.37c-.4-.4-.92-.59-1.43-.59-.52 0-1.04.2-1.43.59L10.3 9.45l-7.72 7.72c-.78.78-.78 2.05 0 2.83L4 21.41c.39.39.9.59 1.41.59.51 0 1.02-.2 1.41-.59l7.78-7.78 2.81-2.81c.8-.78.8-2.07 0-2.86zM5.41 20L4 18.59l7.72-7.72 1.47 1.35L5.41 20z\"/>\n",
              "  </svg>\n",
              "      </button>\n",
              "      \n",
              "  <style>\n",
              "    .colab-df-container {\n",
              "      display:flex;\n",
              "      flex-wrap:wrap;\n",
              "      gap: 12px;\n",
              "    }\n",
              "\n",
              "    .colab-df-convert {\n",
              "      background-color: #E8F0FE;\n",
              "      border: none;\n",
              "      border-radius: 50%;\n",
              "      cursor: pointer;\n",
              "      display: none;\n",
              "      fill: #1967D2;\n",
              "      height: 32px;\n",
              "      padding: 0 0 0 0;\n",
              "      width: 32px;\n",
              "    }\n",
              "\n",
              "    .colab-df-convert:hover {\n",
              "      background-color: #E2EBFA;\n",
              "      box-shadow: 0px 1px 2px rgba(60, 64, 67, 0.3), 0px 1px 3px 1px rgba(60, 64, 67, 0.15);\n",
              "      fill: #174EA6;\n",
              "    }\n",
              "\n",
              "    [theme=dark] .colab-df-convert {\n",
              "      background-color: #3B4455;\n",
              "      fill: #D2E3FC;\n",
              "    }\n",
              "\n",
              "    [theme=dark] .colab-df-convert:hover {\n",
              "      background-color: #434B5C;\n",
              "      box-shadow: 0px 1px 3px 1px rgba(0, 0, 0, 0.15);\n",
              "      filter: drop-shadow(0px 1px 2px rgba(0, 0, 0, 0.3));\n",
              "      fill: #FFFFFF;\n",
              "    }\n",
              "  </style>\n",
              "\n",
              "      <script>\n",
              "        const buttonEl =\n",
              "          document.querySelector('#df-6c28c3bb-859c-4c12-86dc-8b8e93f00458 button.colab-df-convert');\n",
              "        buttonEl.style.display =\n",
              "          google.colab.kernel.accessAllowed ? 'block' : 'none';\n",
              "\n",
              "        async function convertToInteractive(key) {\n",
              "          const element = document.querySelector('#df-6c28c3bb-859c-4c12-86dc-8b8e93f00458');\n",
              "          const dataTable =\n",
              "            await google.colab.kernel.invokeFunction('convertToInteractive',\n",
              "                                                     [key], {});\n",
              "          if (!dataTable) return;\n",
              "\n",
              "          const docLinkHtml = 'Like what you see? Visit the ' +\n",
              "            '<a target=\"_blank\" href=https://colab.research.google.com/notebooks/data_table.ipynb>data table notebook</a>'\n",
              "            + ' to learn more about interactive tables.';\n",
              "          element.innerHTML = '';\n",
              "          dataTable['output_type'] = 'display_data';\n",
              "          await google.colab.output.renderOutput(dataTable, element);\n",
              "          const docLink = document.createElement('div');\n",
              "          docLink.innerHTML = docLinkHtml;\n",
              "          element.appendChild(docLink);\n",
              "        }\n",
              "      </script>\n",
              "    </div>\n",
              "  </div>\n",
              "  "
            ]
          },
          "metadata": {},
          "execution_count": 846
        }
      ]
    },
    {
      "cell_type": "code",
      "source": [
        "ags = pd.read_excel('AGS_Liste.xlsx')"
      ],
      "metadata": {
        "id": "McoXRQeuTvf-"
      },
      "execution_count": 847,
      "outputs": []
    },
    {
      "cell_type": "code",
      "source": [
        "traffic.dtypes"
      ],
      "metadata": {
        "colab": {
          "base_uri": "https://localhost:8080/"
        },
        "id": "hg0oNZdWKkb_",
        "outputId": "f3562ade-254f-4d07-96a2-9e91f2d9bd9c"
      },
      "execution_count": 848,
      "outputs": [
        {
          "output_type": "execute_result",
          "data": {
            "text/plain": [
              "OBJECTID         int64\n",
              "UIDENTSTLAE    float64\n",
              "ULAND           object\n",
              "UREGBEZ          int64\n",
              "UKREIS          object\n",
              "UGEMEINDE       object\n",
              "UJAHR            int64\n",
              "UMONAT           int64\n",
              "USTUNDE          int64\n",
              "UWOCHENTAG       int64\n",
              "UKATEGORIE       int64\n",
              "UART             int64\n",
              "UTYP1            int64\n",
              "ULICHTVERH       int64\n",
              "IstRad           int64\n",
              "IstPKW           int64\n",
              "IstFuss          int64\n",
              "IstKrad          int64\n",
              "IstGkfz          int64\n",
              "IstSonstige      int64\n",
              "LINREFX         object\n",
              "LINREFY         object\n",
              "XGCSWGS84       object\n",
              "YGCSWGS84       object\n",
              "STRZUSTAND       int64\n",
              "dtype: object"
            ]
          },
          "metadata": {},
          "execution_count": 848
        }
      ]
    },
    {
      "cell_type": "code",
      "source": [
        "traffic['ULAND'] = traffic['ULAND'].astype(str)"
      ],
      "metadata": {
        "id": "j22SyWdeQhVv"
      },
      "execution_count": 849,
      "outputs": []
    },
    {
      "cell_type": "code",
      "source": [
        "traffic['UREGBEZ'] = traffic['UREGBEZ'].astype(str)"
      ],
      "metadata": {
        "id": "Ynkvj9xtVeNX"
      },
      "execution_count": 850,
      "outputs": []
    },
    {
      "cell_type": "code",
      "source": [
        "traffic['UKREIS'] = traffic['UKREIS'].astype(str)"
      ],
      "metadata": {
        "id": "Nj7HuDbxVeY-"
      },
      "execution_count": 851,
      "outputs": []
    },
    {
      "cell_type": "code",
      "source": [
        "traffic['UGEMEINDE'] = traffic['UGEMEINDE'].astype(str)"
      ],
      "metadata": {
        "id": "X11PzffWVegm"
      },
      "execution_count": 852,
      "outputs": []
    },
    {
      "cell_type": "code",
      "source": [
        "traffic['AGS'] = traffic['ULAND'] + traffic['UREGBEZ'] + traffic['UKREIS'] + traffic['UGEMEINDE']"
      ],
      "metadata": {
        "id": "Wh6EWC5QVoY3"
      },
      "execution_count": 853,
      "outputs": []
    },
    {
      "cell_type": "code",
      "source": [
        "traffic['kreis_nr'] = traffic['ULAND'] + traffic['UREGBEZ'] + traffic['UKREIS']"
      ],
      "metadata": {
        "id": "dsD52b8xmAil"
      },
      "execution_count": 854,
      "outputs": []
    },
    {
      "cell_type": "code",
      "source": [
        "traffic['region_nr'] = traffic['kreis_nr'].astype(str).str[:-1]"
      ],
      "metadata": {
        "id": "VtJS-ULemkNt"
      },
      "execution_count": 855,
      "outputs": []
    },
    {
      "cell_type": "code",
      "source": [
        "traffic"
      ],
      "metadata": {
        "colab": {
          "base_uri": "https://localhost:8080/",
          "height": 488
        },
        "id": "TW5qSUuVmrbN",
        "outputId": "d71358b2-7e1c-4dba-905f-51a2ed904ccb"
      },
      "execution_count": 856,
      "outputs": [
        {
          "output_type": "execute_result",
          "data": {
            "text/plain": [
              "        OBJECTID   UIDENTSTLAE ULAND UREGBEZ UKREIS UGEMEINDE  UJAHR  UMONAT  \\\n",
              "0              1  1.220012e+19    12       0     68       468   2020       1   \n",
              "1              2  1.220011e+19    12       0     61       112   2020       1   \n",
              "2              3  1.220011e+19    12       0     67       144   2020       1   \n",
              "3              4  1.220013e+19    12       0     69       076   2020       1   \n",
              "4              5  1.220012e+19    12       0     62       224   2020       1   \n",
              "...          ...           ...   ...     ...    ...       ...    ...     ...   \n",
              "237989    237990  7.201218e+18    07       1     38       045   2020      12   \n",
              "237990    237991  7.201205e+18    07       3     32       049   2020      12   \n",
              "237991    237992  7.201215e+18    07       1     41       075   2020      12   \n",
              "237992    237993  7.201120e+18    07       3     14       000   2020      11   \n",
              "237993    237994  7.201211e+18    07       3     35       022   2020      12   \n",
              "\n",
              "        USTUNDE  UWOCHENTAG  ...  IstGkfz  IstSonstige  \\\n",
              "0            11           5  ...        1            0   \n",
              "1            17           2  ...        0            0   \n",
              "2            16           5  ...        0            0   \n",
              "3            11           6  ...        0            0   \n",
              "4            16           6  ...        0            0   \n",
              "...         ...         ...  ...      ...          ...   \n",
              "237989       17           6  ...        0            0   \n",
              "237990        8           7  ...        0            0   \n",
              "237991       17           3  ...        0            0   \n",
              "237992        7           6  ...        0            0   \n",
              "237993       15           6  ...        0            0   \n",
              "\n",
              "                       LINREFX                  LINREFY           XGCSWGS84  \\\n",
              "0       735840,436700000430000  5887204,801599999900000  12,521519179000052   \n",
              "1       814106,991899999790000  5811960,550300000200000  13,614608653000062   \n",
              "2       845207,375699999740000  5811964,177100000900000  14,069661201000031   \n",
              "3       756844,833999999800000  5787696,062999999200000  12,757074839000040   \n",
              "4       793616,489599999970000  5735748,046199999700000  13,249132448000069   \n",
              "...                        ...                      ...                 ...   \n",
              "237989  391675,607900000180000  5589115,281999999700000   7,474374137000041   \n",
              "237990  438750,044599999670000  5484883,899299999700000   8,153857415000061   \n",
              "237991  400274,490199999880000  5575067,228599999100000   7,599165158000062   \n",
              "237992  454090,255400000140000  5482031,062799999500000   8,366091643000061   \n",
              "237993  396112,076399999670000  5474337,654500000200000   7,567753367000023   \n",
              "\n",
              "                 YGCSWGS84  STRZUSTAND       AGS  kreis_nr  region_nr  \n",
              "0       53,082132832000070           0  12068468     12068       1206  \n",
              "1       52,367677682000078           0  12061112     12061       1206  \n",
              "2       52,349021128000061           1  12067144     12067       1206  \n",
              "3       52,179829995000034           1  12069076     12069       1206  \n",
              "4       51,695730215000026           0  12062224     12062       1206  \n",
              "...                    ...         ...       ...       ...        ...  \n",
              "237989  50,444042102000026           1  07138045     07138       0713  \n",
              "237990  49,513483991000044           1  07332049     07332       0733  \n",
              "237991  50,319263897000042           1  07141075     07141       0714  \n",
              "237992  49,489180504000046           0  07314000     07314       0731  \n",
              "237993  49,412845294000078           1  07335022     07335       0733  \n",
              "\n",
              "[237994 rows x 28 columns]"
            ],
            "text/html": [
              "\n",
              "  <div id=\"df-fbb78aeb-ca01-45bc-8729-310529ca57e3\">\n",
              "    <div class=\"colab-df-container\">\n",
              "      <div>\n",
              "<style scoped>\n",
              "    .dataframe tbody tr th:only-of-type {\n",
              "        vertical-align: middle;\n",
              "    }\n",
              "\n",
              "    .dataframe tbody tr th {\n",
              "        vertical-align: top;\n",
              "    }\n",
              "\n",
              "    .dataframe thead th {\n",
              "        text-align: right;\n",
              "    }\n",
              "</style>\n",
              "<table border=\"1\" class=\"dataframe\">\n",
              "  <thead>\n",
              "    <tr style=\"text-align: right;\">\n",
              "      <th></th>\n",
              "      <th>OBJECTID</th>\n",
              "      <th>UIDENTSTLAE</th>\n",
              "      <th>ULAND</th>\n",
              "      <th>UREGBEZ</th>\n",
              "      <th>UKREIS</th>\n",
              "      <th>UGEMEINDE</th>\n",
              "      <th>UJAHR</th>\n",
              "      <th>UMONAT</th>\n",
              "      <th>USTUNDE</th>\n",
              "      <th>UWOCHENTAG</th>\n",
              "      <th>...</th>\n",
              "      <th>IstGkfz</th>\n",
              "      <th>IstSonstige</th>\n",
              "      <th>LINREFX</th>\n",
              "      <th>LINREFY</th>\n",
              "      <th>XGCSWGS84</th>\n",
              "      <th>YGCSWGS84</th>\n",
              "      <th>STRZUSTAND</th>\n",
              "      <th>AGS</th>\n",
              "      <th>kreis_nr</th>\n",
              "      <th>region_nr</th>\n",
              "    </tr>\n",
              "  </thead>\n",
              "  <tbody>\n",
              "    <tr>\n",
              "      <th>0</th>\n",
              "      <td>1</td>\n",
              "      <td>1.220012e+19</td>\n",
              "      <td>12</td>\n",
              "      <td>0</td>\n",
              "      <td>68</td>\n",
              "      <td>468</td>\n",
              "      <td>2020</td>\n",
              "      <td>1</td>\n",
              "      <td>11</td>\n",
              "      <td>5</td>\n",
              "      <td>...</td>\n",
              "      <td>1</td>\n",
              "      <td>0</td>\n",
              "      <td>735840,436700000430000</td>\n",
              "      <td>5887204,801599999900000</td>\n",
              "      <td>12,521519179000052</td>\n",
              "      <td>53,082132832000070</td>\n",
              "      <td>0</td>\n",
              "      <td>12068468</td>\n",
              "      <td>12068</td>\n",
              "      <td>1206</td>\n",
              "    </tr>\n",
              "    <tr>\n",
              "      <th>1</th>\n",
              "      <td>2</td>\n",
              "      <td>1.220011e+19</td>\n",
              "      <td>12</td>\n",
              "      <td>0</td>\n",
              "      <td>61</td>\n",
              "      <td>112</td>\n",
              "      <td>2020</td>\n",
              "      <td>1</td>\n",
              "      <td>17</td>\n",
              "      <td>2</td>\n",
              "      <td>...</td>\n",
              "      <td>0</td>\n",
              "      <td>0</td>\n",
              "      <td>814106,991899999790000</td>\n",
              "      <td>5811960,550300000200000</td>\n",
              "      <td>13,614608653000062</td>\n",
              "      <td>52,367677682000078</td>\n",
              "      <td>0</td>\n",
              "      <td>12061112</td>\n",
              "      <td>12061</td>\n",
              "      <td>1206</td>\n",
              "    </tr>\n",
              "    <tr>\n",
              "      <th>2</th>\n",
              "      <td>3</td>\n",
              "      <td>1.220011e+19</td>\n",
              "      <td>12</td>\n",
              "      <td>0</td>\n",
              "      <td>67</td>\n",
              "      <td>144</td>\n",
              "      <td>2020</td>\n",
              "      <td>1</td>\n",
              "      <td>16</td>\n",
              "      <td>5</td>\n",
              "      <td>...</td>\n",
              "      <td>0</td>\n",
              "      <td>0</td>\n",
              "      <td>845207,375699999740000</td>\n",
              "      <td>5811964,177100000900000</td>\n",
              "      <td>14,069661201000031</td>\n",
              "      <td>52,349021128000061</td>\n",
              "      <td>1</td>\n",
              "      <td>12067144</td>\n",
              "      <td>12067</td>\n",
              "      <td>1206</td>\n",
              "    </tr>\n",
              "    <tr>\n",
              "      <th>3</th>\n",
              "      <td>4</td>\n",
              "      <td>1.220013e+19</td>\n",
              "      <td>12</td>\n",
              "      <td>0</td>\n",
              "      <td>69</td>\n",
              "      <td>076</td>\n",
              "      <td>2020</td>\n",
              "      <td>1</td>\n",
              "      <td>11</td>\n",
              "      <td>6</td>\n",
              "      <td>...</td>\n",
              "      <td>0</td>\n",
              "      <td>0</td>\n",
              "      <td>756844,833999999800000</td>\n",
              "      <td>5787696,062999999200000</td>\n",
              "      <td>12,757074839000040</td>\n",
              "      <td>52,179829995000034</td>\n",
              "      <td>1</td>\n",
              "      <td>12069076</td>\n",
              "      <td>12069</td>\n",
              "      <td>1206</td>\n",
              "    </tr>\n",
              "    <tr>\n",
              "      <th>4</th>\n",
              "      <td>5</td>\n",
              "      <td>1.220012e+19</td>\n",
              "      <td>12</td>\n",
              "      <td>0</td>\n",
              "      <td>62</td>\n",
              "      <td>224</td>\n",
              "      <td>2020</td>\n",
              "      <td>1</td>\n",
              "      <td>16</td>\n",
              "      <td>6</td>\n",
              "      <td>...</td>\n",
              "      <td>0</td>\n",
              "      <td>0</td>\n",
              "      <td>793616,489599999970000</td>\n",
              "      <td>5735748,046199999700000</td>\n",
              "      <td>13,249132448000069</td>\n",
              "      <td>51,695730215000026</td>\n",
              "      <td>0</td>\n",
              "      <td>12062224</td>\n",
              "      <td>12062</td>\n",
              "      <td>1206</td>\n",
              "    </tr>\n",
              "    <tr>\n",
              "      <th>...</th>\n",
              "      <td>...</td>\n",
              "      <td>...</td>\n",
              "      <td>...</td>\n",
              "      <td>...</td>\n",
              "      <td>...</td>\n",
              "      <td>...</td>\n",
              "      <td>...</td>\n",
              "      <td>...</td>\n",
              "      <td>...</td>\n",
              "      <td>...</td>\n",
              "      <td>...</td>\n",
              "      <td>...</td>\n",
              "      <td>...</td>\n",
              "      <td>...</td>\n",
              "      <td>...</td>\n",
              "      <td>...</td>\n",
              "      <td>...</td>\n",
              "      <td>...</td>\n",
              "      <td>...</td>\n",
              "      <td>...</td>\n",
              "      <td>...</td>\n",
              "    </tr>\n",
              "    <tr>\n",
              "      <th>237989</th>\n",
              "      <td>237990</td>\n",
              "      <td>7.201218e+18</td>\n",
              "      <td>07</td>\n",
              "      <td>1</td>\n",
              "      <td>38</td>\n",
              "      <td>045</td>\n",
              "      <td>2020</td>\n",
              "      <td>12</td>\n",
              "      <td>17</td>\n",
              "      <td>6</td>\n",
              "      <td>...</td>\n",
              "      <td>0</td>\n",
              "      <td>0</td>\n",
              "      <td>391675,607900000180000</td>\n",
              "      <td>5589115,281999999700000</td>\n",
              "      <td>7,474374137000041</td>\n",
              "      <td>50,444042102000026</td>\n",
              "      <td>1</td>\n",
              "      <td>07138045</td>\n",
              "      <td>07138</td>\n",
              "      <td>0713</td>\n",
              "    </tr>\n",
              "    <tr>\n",
              "      <th>237990</th>\n",
              "      <td>237991</td>\n",
              "      <td>7.201205e+18</td>\n",
              "      <td>07</td>\n",
              "      <td>3</td>\n",
              "      <td>32</td>\n",
              "      <td>049</td>\n",
              "      <td>2020</td>\n",
              "      <td>12</td>\n",
              "      <td>8</td>\n",
              "      <td>7</td>\n",
              "      <td>...</td>\n",
              "      <td>0</td>\n",
              "      <td>0</td>\n",
              "      <td>438750,044599999670000</td>\n",
              "      <td>5484883,899299999700000</td>\n",
              "      <td>8,153857415000061</td>\n",
              "      <td>49,513483991000044</td>\n",
              "      <td>1</td>\n",
              "      <td>07332049</td>\n",
              "      <td>07332</td>\n",
              "      <td>0733</td>\n",
              "    </tr>\n",
              "    <tr>\n",
              "      <th>237991</th>\n",
              "      <td>237992</td>\n",
              "      <td>7.201215e+18</td>\n",
              "      <td>07</td>\n",
              "      <td>1</td>\n",
              "      <td>41</td>\n",
              "      <td>075</td>\n",
              "      <td>2020</td>\n",
              "      <td>12</td>\n",
              "      <td>17</td>\n",
              "      <td>3</td>\n",
              "      <td>...</td>\n",
              "      <td>0</td>\n",
              "      <td>0</td>\n",
              "      <td>400274,490199999880000</td>\n",
              "      <td>5575067,228599999100000</td>\n",
              "      <td>7,599165158000062</td>\n",
              "      <td>50,319263897000042</td>\n",
              "      <td>1</td>\n",
              "      <td>07141075</td>\n",
              "      <td>07141</td>\n",
              "      <td>0714</td>\n",
              "    </tr>\n",
              "    <tr>\n",
              "      <th>237992</th>\n",
              "      <td>237993</td>\n",
              "      <td>7.201120e+18</td>\n",
              "      <td>07</td>\n",
              "      <td>3</td>\n",
              "      <td>14</td>\n",
              "      <td>000</td>\n",
              "      <td>2020</td>\n",
              "      <td>11</td>\n",
              "      <td>7</td>\n",
              "      <td>6</td>\n",
              "      <td>...</td>\n",
              "      <td>0</td>\n",
              "      <td>0</td>\n",
              "      <td>454090,255400000140000</td>\n",
              "      <td>5482031,062799999500000</td>\n",
              "      <td>8,366091643000061</td>\n",
              "      <td>49,489180504000046</td>\n",
              "      <td>0</td>\n",
              "      <td>07314000</td>\n",
              "      <td>07314</td>\n",
              "      <td>0731</td>\n",
              "    </tr>\n",
              "    <tr>\n",
              "      <th>237993</th>\n",
              "      <td>237994</td>\n",
              "      <td>7.201211e+18</td>\n",
              "      <td>07</td>\n",
              "      <td>3</td>\n",
              "      <td>35</td>\n",
              "      <td>022</td>\n",
              "      <td>2020</td>\n",
              "      <td>12</td>\n",
              "      <td>15</td>\n",
              "      <td>6</td>\n",
              "      <td>...</td>\n",
              "      <td>0</td>\n",
              "      <td>0</td>\n",
              "      <td>396112,076399999670000</td>\n",
              "      <td>5474337,654500000200000</td>\n",
              "      <td>7,567753367000023</td>\n",
              "      <td>49,412845294000078</td>\n",
              "      <td>1</td>\n",
              "      <td>07335022</td>\n",
              "      <td>07335</td>\n",
              "      <td>0733</td>\n",
              "    </tr>\n",
              "  </tbody>\n",
              "</table>\n",
              "<p>237994 rows × 28 columns</p>\n",
              "</div>\n",
              "      <button class=\"colab-df-convert\" onclick=\"convertToInteractive('df-fbb78aeb-ca01-45bc-8729-310529ca57e3')\"\n",
              "              title=\"Convert this dataframe to an interactive table.\"\n",
              "              style=\"display:none;\">\n",
              "        \n",
              "  <svg xmlns=\"http://www.w3.org/2000/svg\" height=\"24px\"viewBox=\"0 0 24 24\"\n",
              "       width=\"24px\">\n",
              "    <path d=\"M0 0h24v24H0V0z\" fill=\"none\"/>\n",
              "    <path d=\"M18.56 5.44l.94 2.06.94-2.06 2.06-.94-2.06-.94-.94-2.06-.94 2.06-2.06.94zm-11 1L8.5 8.5l.94-2.06 2.06-.94-2.06-.94L8.5 2.5l-.94 2.06-2.06.94zm10 10l.94 2.06.94-2.06 2.06-.94-2.06-.94-.94-2.06-.94 2.06-2.06.94z\"/><path d=\"M17.41 7.96l-1.37-1.37c-.4-.4-.92-.59-1.43-.59-.52 0-1.04.2-1.43.59L10.3 9.45l-7.72 7.72c-.78.78-.78 2.05 0 2.83L4 21.41c.39.39.9.59 1.41.59.51 0 1.02-.2 1.41-.59l7.78-7.78 2.81-2.81c.8-.78.8-2.07 0-2.86zM5.41 20L4 18.59l7.72-7.72 1.47 1.35L5.41 20z\"/>\n",
              "  </svg>\n",
              "      </button>\n",
              "      \n",
              "  <style>\n",
              "    .colab-df-container {\n",
              "      display:flex;\n",
              "      flex-wrap:wrap;\n",
              "      gap: 12px;\n",
              "    }\n",
              "\n",
              "    .colab-df-convert {\n",
              "      background-color: #E8F0FE;\n",
              "      border: none;\n",
              "      border-radius: 50%;\n",
              "      cursor: pointer;\n",
              "      display: none;\n",
              "      fill: #1967D2;\n",
              "      height: 32px;\n",
              "      padding: 0 0 0 0;\n",
              "      width: 32px;\n",
              "    }\n",
              "\n",
              "    .colab-df-convert:hover {\n",
              "      background-color: #E2EBFA;\n",
              "      box-shadow: 0px 1px 2px rgba(60, 64, 67, 0.3), 0px 1px 3px 1px rgba(60, 64, 67, 0.15);\n",
              "      fill: #174EA6;\n",
              "    }\n",
              "\n",
              "    [theme=dark] .colab-df-convert {\n",
              "      background-color: #3B4455;\n",
              "      fill: #D2E3FC;\n",
              "    }\n",
              "\n",
              "    [theme=dark] .colab-df-convert:hover {\n",
              "      background-color: #434B5C;\n",
              "      box-shadow: 0px 1px 3px 1px rgba(0, 0, 0, 0.15);\n",
              "      filter: drop-shadow(0px 1px 2px rgba(0, 0, 0, 0.3));\n",
              "      fill: #FFFFFF;\n",
              "    }\n",
              "  </style>\n",
              "\n",
              "      <script>\n",
              "        const buttonEl =\n",
              "          document.querySelector('#df-fbb78aeb-ca01-45bc-8729-310529ca57e3 button.colab-df-convert');\n",
              "        buttonEl.style.display =\n",
              "          google.colab.kernel.accessAllowed ? 'block' : 'none';\n",
              "\n",
              "        async function convertToInteractive(key) {\n",
              "          const element = document.querySelector('#df-fbb78aeb-ca01-45bc-8729-310529ca57e3');\n",
              "          const dataTable =\n",
              "            await google.colab.kernel.invokeFunction('convertToInteractive',\n",
              "                                                     [key], {});\n",
              "          if (!dataTable) return;\n",
              "\n",
              "          const docLinkHtml = 'Like what you see? Visit the ' +\n",
              "            '<a target=\"_blank\" href=https://colab.research.google.com/notebooks/data_table.ipynb>data table notebook</a>'\n",
              "            + ' to learn more about interactive tables.';\n",
              "          element.innerHTML = '';\n",
              "          dataTable['output_type'] = 'display_data';\n",
              "          await google.colab.output.renderOutput(dataTable, element);\n",
              "          const docLink = document.createElement('div');\n",
              "          docLink.innerHTML = docLinkHtml;\n",
              "          element.appendChild(docLink);\n",
              "        }\n",
              "      </script>\n",
              "    </div>\n",
              "  </div>\n",
              "  "
            ]
          },
          "metadata": {},
          "execution_count": 856
        }
      ]
    },
    {
      "cell_type": "code",
      "source": [
        "ags = ags.rename(columns = {'SCHLUESSEL': 'ags_nr'})\n",
        "traffic = traffic.rename(columns = {'AGS': 'ags_nr'})"
      ],
      "metadata": {
        "id": "ccuw2t763Y2S"
      },
      "execution_count": 857,
      "outputs": []
    },
    {
      "cell_type": "code",
      "source": [
        "traffic['ags_nr'] = traffic['ags_nr'].astype(int)"
      ],
      "metadata": {
        "id": "Tvtc5Bb0_YlJ"
      },
      "execution_count": 858,
      "outputs": []
    },
    {
      "cell_type": "code",
      "source": [
        "traffic = traffic.merge(ags, on='ags_nr', how='left')"
      ],
      "metadata": {
        "id": "jfMFh0Ca9kx1"
      },
      "execution_count": 859,
      "outputs": []
    },
    {
      "cell_type": "markdown",
      "source": [
        "**Mapping der Werte / Übersetzung aus PDF**\n",
        "\n",
        "\n",
        "*   ULAND\n",
        "*   UKREIS\n",
        "*   UGEMEINDE\n",
        "*   UWOCHENTAG\n",
        "*   UKATEGORIE\n",
        "*   UART\n",
        "*   UTYP1\n",
        "*   ULICHTVERH\n",
        "*   USTRZUSTAND\n",
        "\n"
      ],
      "metadata": {
        "id": "Yu648ajNAH6B"
      }
    },
    {
      "cell_type": "code",
      "source": [
        "uland = [['01', 'Schleswig-Holstein'], ['02', 'Hamburg'], ['03', 'Niedersachsen'], ['04', 'Bremen'], ['05', 'Nordrhein-Westfalen'], ['06', 'Hessen'], ['07', 'Rheinland-Pfalz'], ['08', 'Baden-Württemberg'], ['09', 'Bayern'], ['10', 'Saarland'], ['11', 'Berlin'], ['12', 'Brandenburg'], ['13', 'Mecklenburg-Vorpommern'], ['14', 'Sachsen'], ['15', 'Sachsen-Anhalt'], ['16', 'Thüringen']]"
      ],
      "metadata": {
        "id": "7o5tlPKEAOEB"
      },
      "execution_count": 860,
      "outputs": []
    },
    {
      "cell_type": "code",
      "source": [
        "uland_table = pd.DataFrame(uland, columns=['ULAND', 'ULAND_NAME'])"
      ],
      "metadata": {
        "id": "rL7-D3exGGRm"
      },
      "execution_count": 861,
      "outputs": []
    },
    {
      "cell_type": "code",
      "source": [
        "traffic = traffic.merge(uland_table, on='ULAND', how='left')"
      ],
      "metadata": {
        "id": "4AsOjw57HqIZ"
      },
      "execution_count": 862,
      "outputs": []
    },
    {
      "cell_type": "code",
      "source": [
        "traffic = traffic.rename(columns = {'Bezeichnung': 'Gemeinde'})"
      ],
      "metadata": {
        "id": "NJKDEXGLKT-d"
      },
      "execution_count": 863,
      "outputs": []
    },
    {
      "cell_type": "markdown",
      "source": [
        "-------------------------"
      ],
      "metadata": {
        "id": "Ft746I0aO7ks"
      }
    },
    {
      "cell_type": "code",
      "source": [
        "wochentag = [['1', 'Sonntag'], ['2', 'Montag'], ['3', 'Dienstag'], ['4', 'Mittwoch'], ['5', 'Donnerstag'], ['6', 'Freitag'], ['7', 'Samstag']]"
      ],
      "metadata": {
        "id": "aqx1Qs-hOXQD"
      },
      "execution_count": 864,
      "outputs": []
    },
    {
      "cell_type": "code",
      "source": [
        "wochentag_table = pd.DataFrame(wochentag, columns=['UWOCHENTAG', 'Wochentag'])"
      ],
      "metadata": {
        "id": "M5ubwIjMOsqk"
      },
      "execution_count": 865,
      "outputs": []
    },
    {
      "cell_type": "code",
      "source": [
        "wochentag_table['UWOCHENTAG'] = wochentag_table['UWOCHENTAG'].astype(int)"
      ],
      "metadata": {
        "id": "Dmty9tAkPDHf"
      },
      "execution_count": 866,
      "outputs": []
    },
    {
      "cell_type": "code",
      "source": [
        "traffic = traffic.merge(wochentag_table, on='UWOCHENTAG', how='left')"
      ],
      "metadata": {
        "id": "273NrSw5O5AW"
      },
      "execution_count": 867,
      "outputs": []
    },
    {
      "cell_type": "markdown",
      "source": [
        "---------"
      ],
      "metadata": {
        "id": "0KYlI6yQPW-c"
      }
    },
    {
      "cell_type": "code",
      "source": [
        "u_kategorie = [['1', 'Unfall mit Getöteten'], ['2', 'Unfall mit Schwerverletzten'], ['3', 'Unfall mit Leichtverletzten']]"
      ],
      "metadata": {
        "id": "YC_m_LoTPYjQ"
      },
      "execution_count": 868,
      "outputs": []
    },
    {
      "cell_type": "code",
      "source": [
        "u_kategorie_table = pd.DataFrame(u_kategorie, columns=['UKATEGORIE', 'Unfallkategorie'])"
      ],
      "metadata": {
        "id": "kY0mNAGhQUBl"
      },
      "execution_count": 869,
      "outputs": []
    },
    {
      "cell_type": "code",
      "source": [
        "u_kategorie_table['UKATEGORIE'] = u_kategorie_table['UKATEGORIE'].astype(int)"
      ],
      "metadata": {
        "id": "fdl7cDUfQhPd"
      },
      "execution_count": 870,
      "outputs": []
    },
    {
      "cell_type": "code",
      "source": [
        "traffic = traffic.merge(u_kategorie_table, on='UKATEGORIE', how='left')"
      ],
      "metadata": {
        "id": "126FKajXQrtP"
      },
      "execution_count": 871,
      "outputs": []
    },
    {
      "cell_type": "markdown",
      "source": [
        "-----------------"
      ],
      "metadata": {
        "id": "__UA2alpRHVC"
      }
    },
    {
      "cell_type": "code",
      "source": [
        "u_lichverhaeltnis = [['0', 'Tageslicht'], ['1', 'Dämmerung'], ['2', 'Dunkelheit']]"
      ],
      "metadata": {
        "id": "2T_3VIjERMQA"
      },
      "execution_count": 872,
      "outputs": []
    },
    {
      "cell_type": "code",
      "source": [
        "u_lichverhaeltnis_table = pd.DataFrame(u_lichverhaeltnis, columns=['ULICHTVERH', 'Lichtverhaeltnis'])"
      ],
      "metadata": {
        "id": "r5yqurHnTvRl"
      },
      "execution_count": 873,
      "outputs": []
    },
    {
      "cell_type": "code",
      "source": [
        "u_lichverhaeltnis_table['ULICHTVERH'] = u_lichverhaeltnis_table['ULICHTVERH'].astype(int)"
      ],
      "metadata": {
        "id": "Bpd6bV8VT7tB"
      },
      "execution_count": 874,
      "outputs": []
    },
    {
      "cell_type": "code",
      "source": [
        "traffic = traffic.merge(u_lichverhaeltnis_table, on='ULICHTVERH', how='left')"
      ],
      "metadata": {
        "id": "ruU-eaoFT_NT"
      },
      "execution_count": 875,
      "outputs": []
    },
    {
      "cell_type": "markdown",
      "source": [
        "--------"
      ],
      "metadata": {
        "id": "iw70UH4yUThQ"
      }
    },
    {
      "cell_type": "code",
      "source": [
        "u_strzustand = [['0', 'trocken'], ['1', 'nass'], ['2', 'winterglatt']]"
      ],
      "metadata": {
        "id": "WUaFDXxSUVdR"
      },
      "execution_count": 876,
      "outputs": []
    },
    {
      "cell_type": "code",
      "source": [
        "u_strzustand_table = pd.DataFrame(u_strzustand, columns=['STRZUSTAND', 'Straßenzustand'])"
      ],
      "metadata": {
        "id": "A9uhhrHpUhbw"
      },
      "execution_count": 877,
      "outputs": []
    },
    {
      "cell_type": "code",
      "source": [
        "u_strzustand_table['STRZUSTAND'] = u_strzustand_table['STRZUSTAND'].astype(int)"
      ],
      "metadata": {
        "id": "b5GlgXWGUtMM"
      },
      "execution_count": 878,
      "outputs": []
    },
    {
      "cell_type": "code",
      "source": [
        "traffic = traffic.merge(u_strzustand_table, on='STRZUSTAND', how='left')"
      ],
      "metadata": {
        "id": "gOiNalmMUyGx"
      },
      "execution_count": 879,
      "outputs": []
    },
    {
      "cell_type": "markdown",
      "source": [
        "-------"
      ],
      "metadata": {
        "id": "nkWXYjGiVw2M"
      }
    },
    {
      "cell_type": "markdown",
      "source": [
        "**Filterung auf Baden-Württemberg:**"
      ],
      "metadata": {
        "id": "TZjBw22Zd0w4"
      }
    },
    {
      "cell_type": "code",
      "source": [
        "traffic_new = traffic"
      ],
      "metadata": {
        "id": "U70EEmmbdeUw"
      },
      "execution_count": 880,
      "outputs": []
    },
    {
      "cell_type": "code",
      "source": [
        "is_bawü = traffic_new['ULAND']=='08'"
      ],
      "metadata": {
        "id": "Xjfq-Oeed0KH"
      },
      "execution_count": 881,
      "outputs": []
    },
    {
      "cell_type": "code",
      "source": [
        "traffic_bawü = traffic_new[is_bawü]"
      ],
      "metadata": {
        "id": "aliFHzG9e4MJ"
      },
      "execution_count": 882,
      "outputs": []
    },
    {
      "cell_type": "code",
      "source": [
        "regionen = [['0811', 'Region Stuttgart'], ['0812', 'Region Heilbronn-Franken'], ['0813', 'Region Ostwürttemberg'], ['0821', 'Region Mittlerer Oberrhein'], ['0822', 'Region Rhein-Neckar-Odenwald'], ['0823', 'Region Nordschwarzwald'], ['0831', 'Region Südlicher Oberrhein'], ['0832', 'Region Schwarzwald-Baar-Heuberg'], ['0833', 'Region Hochrhein-Bodensee'], ['0841', 'Region Neckar-Alb'], ['0842', 'Region Donau-Iller'], ['0843', 'Region Bodensee-Oberschwaben']]"
      ],
      "metadata": {
        "id": "bRy2SonRlksp"
      },
      "execution_count": 883,
      "outputs": []
    },
    {
      "cell_type": "code",
      "source": [
        "regionen_table = pd.DataFrame(regionen, columns=['region_nr', 'Region'])"
      ],
      "metadata": {
        "id": "fR7A4hl-od-n"
      },
      "execution_count": 884,
      "outputs": []
    },
    {
      "cell_type": "code",
      "source": [
        "traffic_bawü = traffic_bawü.merge(regionen_table, on='region_nr', how='left')"
      ],
      "metadata": {
        "id": "NPnTcyAFoiZ1"
      },
      "execution_count": 885,
      "outputs": []
    },
    {
      "cell_type": "code",
      "source": [
        "traffic_bawü[['Gemeinde_Name', 'Gemeinde_Art']] = traffic_bawü.Gemeinde.str.split(',', expand=True)"
      ],
      "metadata": {
        "id": "YmgNYVzOqIll"
      },
      "execution_count": 886,
      "outputs": []
    },
    {
      "cell_type": "code",
      "source": [
        "list(traffic_bawü)"
      ],
      "metadata": {
        "colab": {
          "base_uri": "https://localhost:8080/"
        },
        "id": "DgTdGbYDs1Gq",
        "outputId": "b39a6f02-7946-45cb-cdcd-5a9c394e37da"
      },
      "execution_count": 887,
      "outputs": [
        {
          "output_type": "execute_result",
          "data": {
            "text/plain": [
              "['OBJECTID',\n",
              " 'UIDENTSTLAE',\n",
              " 'ULAND',\n",
              " 'UREGBEZ',\n",
              " 'UKREIS',\n",
              " 'UGEMEINDE',\n",
              " 'UJAHR',\n",
              " 'UMONAT',\n",
              " 'USTUNDE',\n",
              " 'UWOCHENTAG',\n",
              " 'UKATEGORIE',\n",
              " 'UART',\n",
              " 'UTYP1',\n",
              " 'ULICHTVERH',\n",
              " 'IstRad',\n",
              " 'IstPKW',\n",
              " 'IstFuss',\n",
              " 'IstKrad',\n",
              " 'IstGkfz',\n",
              " 'IstSonstige',\n",
              " 'LINREFX',\n",
              " 'LINREFY',\n",
              " 'XGCSWGS84',\n",
              " 'YGCSWGS84',\n",
              " 'STRZUSTAND',\n",
              " 'ags_nr',\n",
              " 'kreis_nr',\n",
              " 'region_nr',\n",
              " 'Gemeinde',\n",
              " 'ULAND_NAME',\n",
              " 'Wochentag',\n",
              " 'Unfallkategorie',\n",
              " 'Lichtverhaeltnis',\n",
              " 'Straßenzustand',\n",
              " 'Region',\n",
              " 'Gemeinde_Name',\n",
              " 'Gemeinde_Art']"
            ]
          },
          "metadata": {},
          "execution_count": 887
        }
      ]
    },
    {
      "cell_type": "code",
      "source": [
        "traffic_bawü = traffic_bawü.drop(columns=['OBJECTID', 'UIDENTSTLAE', 'UREGBEZ', 'UKREIS', 'UGEMEINDE', 'LINREFX', 'LINREFY', 'XGCSWGS84', 'YGCSWGS84', 'Gemeinde'])"
      ],
      "metadata": {
        "id": "MGmngztGss2_"
      },
      "execution_count": 888,
      "outputs": []
    },
    {
      "cell_type": "code",
      "source": [
        "traffic_bawü.Gemeinde_Art.fillna(value='Gemeinde', inplace=True)"
      ],
      "metadata": {
        "id": "FJflOkcTVAeH"
      },
      "execution_count": 889,
      "outputs": []
    },
    {
      "cell_type": "code",
      "source": [
        "traffic_bawü"
      ],
      "metadata": {
        "colab": {
          "base_uri": "https://localhost:8080/",
          "height": 818
        },
        "id": "AFv_xTScYQfv",
        "outputId": "f23dd255-b842-4928-ac70-c1054fdd2b77"
      },
      "execution_count": 912,
      "outputs": [
        {
          "output_type": "execute_result",
          "data": {
            "text/plain": [
              "      ULAND  UJAHR  UMONAT  USTUNDE  UWOCHENTAG  UKATEGORIE  UART  UTYP1  \\\n",
              "0        08   2020       1       11           6           3     5      3   \n",
              "1        08   2020       1       14           5           3     9      1   \n",
              "2        08   2020       1        3           4           3     8      1   \n",
              "3        08   2020       1        7           6           2     4      6   \n",
              "4        08   2020       1       16           4           3     8      1   \n",
              "...     ...    ...     ...      ...         ...         ...   ...    ...   \n",
              "28445    08   2020      12       14           4           3     5      2   \n",
              "28446    08   2020      12       17           2           3     8      7   \n",
              "28447    08   2020      12       18           3           3     0      1   \n",
              "28448    08   2020      12       23           4           3     8      7   \n",
              "28449    08   2020      12        8           3           3     4      6   \n",
              "\n",
              "       ULICHTVERH  IstRad  ...  kreis_nr  region_nr         ULAND_NAME  \\\n",
              "0               0       0  ...     08225       0822  Baden-Württemberg   \n",
              "1               0       0  ...     08119       0811  Baden-Württemberg   \n",
              "2               2       0  ...     08126       0812  Baden-Württemberg   \n",
              "3               2       0  ...     08115       0811  Baden-Württemberg   \n",
              "4               1       0  ...     08417       0841  Baden-Württemberg   \n",
              "...           ...     ...  ...       ...        ...                ...   \n",
              "28445           0       1  ...     08335       0833  Baden-Württemberg   \n",
              "28446           2       0  ...     08212       0821  Baden-Württemberg   \n",
              "28447           2       1  ...     08315       0831  Baden-Württemberg   \n",
              "28448           2       0  ...     08125       0812  Baden-Württemberg   \n",
              "28449           0       0  ...     08315       0831  Baden-Württemberg   \n",
              "\n",
              "        Wochentag              Unfallkategorie  Lichtverhaeltnis  \\\n",
              "0         Freitag  Unfall mit Leichtverletzten        Tageslicht   \n",
              "1      Donnerstag  Unfall mit Leichtverletzten        Tageslicht   \n",
              "2        Mittwoch  Unfall mit Leichtverletzten        Dunkelheit   \n",
              "3         Freitag  Unfall mit Schwerverletzten        Dunkelheit   \n",
              "4        Mittwoch  Unfall mit Leichtverletzten         Dämmerung   \n",
              "...           ...                          ...               ...   \n",
              "28445    Mittwoch  Unfall mit Leichtverletzten        Tageslicht   \n",
              "28446      Montag  Unfall mit Leichtverletzten        Dunkelheit   \n",
              "28447    Dienstag  Unfall mit Leichtverletzten        Dunkelheit   \n",
              "28448    Mittwoch  Unfall mit Leichtverletzten        Dunkelheit   \n",
              "28449    Dienstag  Unfall mit Leichtverletzten        Tageslicht   \n",
              "\n",
              "       Straßenzustand                        Region        Gemeinde_Name  \\\n",
              "0                nass  Region Rhein-Neckar-Odenwald    Buchen (Odenwald)   \n",
              "1                nass              Region Stuttgart           Waiblingen   \n",
              "2                nass      Region Heilbronn-Franken            Bretzfeld   \n",
              "3                nass              Region Stuttgart             Magstadt   \n",
              "4         winterglatt             Region Neckar-Alb           Meßstetten   \n",
              "...               ...                           ...                  ...   \n",
              "28445            nass     Region Hochrhein-Bodensee  Singen (Hohentwiel)   \n",
              "28446            nass    Region Mittlerer Oberrhein            Karlsruhe   \n",
              "28447            nass    Region Südlicher Oberrhein    Breisach am Rhein   \n",
              "28448            nass      Region Heilbronn-Franken            Weinsberg   \n",
              "28449            nass    Region Südlicher Oberrhein              Umkirch   \n",
              "\n",
              "      Gemeinde_Art  \n",
              "0            Stadt  \n",
              "1            Stadt  \n",
              "2         Gemeinde  \n",
              "3         Gemeinde  \n",
              "4            Stadt  \n",
              "...            ...  \n",
              "28445        Stadt  \n",
              "28446        Stadt  \n",
              "28447        Stadt  \n",
              "28448        Stadt  \n",
              "28449     Gemeinde  \n",
              "\n",
              "[28450 rows x 27 columns]"
            ],
            "text/html": [
              "\n",
              "  <div id=\"df-cf976128-235a-45d8-b0cc-99c12a4494da\">\n",
              "    <div class=\"colab-df-container\">\n",
              "      <div>\n",
              "<style scoped>\n",
              "    .dataframe tbody tr th:only-of-type {\n",
              "        vertical-align: middle;\n",
              "    }\n",
              "\n",
              "    .dataframe tbody tr th {\n",
              "        vertical-align: top;\n",
              "    }\n",
              "\n",
              "    .dataframe thead th {\n",
              "        text-align: right;\n",
              "    }\n",
              "</style>\n",
              "<table border=\"1\" class=\"dataframe\">\n",
              "  <thead>\n",
              "    <tr style=\"text-align: right;\">\n",
              "      <th></th>\n",
              "      <th>ULAND</th>\n",
              "      <th>UJAHR</th>\n",
              "      <th>UMONAT</th>\n",
              "      <th>USTUNDE</th>\n",
              "      <th>UWOCHENTAG</th>\n",
              "      <th>UKATEGORIE</th>\n",
              "      <th>UART</th>\n",
              "      <th>UTYP1</th>\n",
              "      <th>ULICHTVERH</th>\n",
              "      <th>IstRad</th>\n",
              "      <th>...</th>\n",
              "      <th>kreis_nr</th>\n",
              "      <th>region_nr</th>\n",
              "      <th>ULAND_NAME</th>\n",
              "      <th>Wochentag</th>\n",
              "      <th>Unfallkategorie</th>\n",
              "      <th>Lichtverhaeltnis</th>\n",
              "      <th>Straßenzustand</th>\n",
              "      <th>Region</th>\n",
              "      <th>Gemeinde_Name</th>\n",
              "      <th>Gemeinde_Art</th>\n",
              "    </tr>\n",
              "  </thead>\n",
              "  <tbody>\n",
              "    <tr>\n",
              "      <th>0</th>\n",
              "      <td>08</td>\n",
              "      <td>2020</td>\n",
              "      <td>1</td>\n",
              "      <td>11</td>\n",
              "      <td>6</td>\n",
              "      <td>3</td>\n",
              "      <td>5</td>\n",
              "      <td>3</td>\n",
              "      <td>0</td>\n",
              "      <td>0</td>\n",
              "      <td>...</td>\n",
              "      <td>08225</td>\n",
              "      <td>0822</td>\n",
              "      <td>Baden-Württemberg</td>\n",
              "      <td>Freitag</td>\n",
              "      <td>Unfall mit Leichtverletzten</td>\n",
              "      <td>Tageslicht</td>\n",
              "      <td>nass</td>\n",
              "      <td>Region Rhein-Neckar-Odenwald</td>\n",
              "      <td>Buchen (Odenwald)</td>\n",
              "      <td>Stadt</td>\n",
              "    </tr>\n",
              "    <tr>\n",
              "      <th>1</th>\n",
              "      <td>08</td>\n",
              "      <td>2020</td>\n",
              "      <td>1</td>\n",
              "      <td>14</td>\n",
              "      <td>5</td>\n",
              "      <td>3</td>\n",
              "      <td>9</td>\n",
              "      <td>1</td>\n",
              "      <td>0</td>\n",
              "      <td>0</td>\n",
              "      <td>...</td>\n",
              "      <td>08119</td>\n",
              "      <td>0811</td>\n",
              "      <td>Baden-Württemberg</td>\n",
              "      <td>Donnerstag</td>\n",
              "      <td>Unfall mit Leichtverletzten</td>\n",
              "      <td>Tageslicht</td>\n",
              "      <td>nass</td>\n",
              "      <td>Region Stuttgart</td>\n",
              "      <td>Waiblingen</td>\n",
              "      <td>Stadt</td>\n",
              "    </tr>\n",
              "    <tr>\n",
              "      <th>2</th>\n",
              "      <td>08</td>\n",
              "      <td>2020</td>\n",
              "      <td>1</td>\n",
              "      <td>3</td>\n",
              "      <td>4</td>\n",
              "      <td>3</td>\n",
              "      <td>8</td>\n",
              "      <td>1</td>\n",
              "      <td>2</td>\n",
              "      <td>0</td>\n",
              "      <td>...</td>\n",
              "      <td>08126</td>\n",
              "      <td>0812</td>\n",
              "      <td>Baden-Württemberg</td>\n",
              "      <td>Mittwoch</td>\n",
              "      <td>Unfall mit Leichtverletzten</td>\n",
              "      <td>Dunkelheit</td>\n",
              "      <td>nass</td>\n",
              "      <td>Region Heilbronn-Franken</td>\n",
              "      <td>Bretzfeld</td>\n",
              "      <td>Gemeinde</td>\n",
              "    </tr>\n",
              "    <tr>\n",
              "      <th>3</th>\n",
              "      <td>08</td>\n",
              "      <td>2020</td>\n",
              "      <td>1</td>\n",
              "      <td>7</td>\n",
              "      <td>6</td>\n",
              "      <td>2</td>\n",
              "      <td>4</td>\n",
              "      <td>6</td>\n",
              "      <td>2</td>\n",
              "      <td>0</td>\n",
              "      <td>...</td>\n",
              "      <td>08115</td>\n",
              "      <td>0811</td>\n",
              "      <td>Baden-Württemberg</td>\n",
              "      <td>Freitag</td>\n",
              "      <td>Unfall mit Schwerverletzten</td>\n",
              "      <td>Dunkelheit</td>\n",
              "      <td>nass</td>\n",
              "      <td>Region Stuttgart</td>\n",
              "      <td>Magstadt</td>\n",
              "      <td>Gemeinde</td>\n",
              "    </tr>\n",
              "    <tr>\n",
              "      <th>4</th>\n",
              "      <td>08</td>\n",
              "      <td>2020</td>\n",
              "      <td>1</td>\n",
              "      <td>16</td>\n",
              "      <td>4</td>\n",
              "      <td>3</td>\n",
              "      <td>8</td>\n",
              "      <td>1</td>\n",
              "      <td>1</td>\n",
              "      <td>0</td>\n",
              "      <td>...</td>\n",
              "      <td>08417</td>\n",
              "      <td>0841</td>\n",
              "      <td>Baden-Württemberg</td>\n",
              "      <td>Mittwoch</td>\n",
              "      <td>Unfall mit Leichtverletzten</td>\n",
              "      <td>Dämmerung</td>\n",
              "      <td>winterglatt</td>\n",
              "      <td>Region Neckar-Alb</td>\n",
              "      <td>Meßstetten</td>\n",
              "      <td>Stadt</td>\n",
              "    </tr>\n",
              "    <tr>\n",
              "      <th>...</th>\n",
              "      <td>...</td>\n",
              "      <td>...</td>\n",
              "      <td>...</td>\n",
              "      <td>...</td>\n",
              "      <td>...</td>\n",
              "      <td>...</td>\n",
              "      <td>...</td>\n",
              "      <td>...</td>\n",
              "      <td>...</td>\n",
              "      <td>...</td>\n",
              "      <td>...</td>\n",
              "      <td>...</td>\n",
              "      <td>...</td>\n",
              "      <td>...</td>\n",
              "      <td>...</td>\n",
              "      <td>...</td>\n",
              "      <td>...</td>\n",
              "      <td>...</td>\n",
              "      <td>...</td>\n",
              "      <td>...</td>\n",
              "      <td>...</td>\n",
              "    </tr>\n",
              "    <tr>\n",
              "      <th>28445</th>\n",
              "      <td>08</td>\n",
              "      <td>2020</td>\n",
              "      <td>12</td>\n",
              "      <td>14</td>\n",
              "      <td>4</td>\n",
              "      <td>3</td>\n",
              "      <td>5</td>\n",
              "      <td>2</td>\n",
              "      <td>0</td>\n",
              "      <td>1</td>\n",
              "      <td>...</td>\n",
              "      <td>08335</td>\n",
              "      <td>0833</td>\n",
              "      <td>Baden-Württemberg</td>\n",
              "      <td>Mittwoch</td>\n",
              "      <td>Unfall mit Leichtverletzten</td>\n",
              "      <td>Tageslicht</td>\n",
              "      <td>nass</td>\n",
              "      <td>Region Hochrhein-Bodensee</td>\n",
              "      <td>Singen (Hohentwiel)</td>\n",
              "      <td>Stadt</td>\n",
              "    </tr>\n",
              "    <tr>\n",
              "      <th>28446</th>\n",
              "      <td>08</td>\n",
              "      <td>2020</td>\n",
              "      <td>12</td>\n",
              "      <td>17</td>\n",
              "      <td>2</td>\n",
              "      <td>3</td>\n",
              "      <td>8</td>\n",
              "      <td>7</td>\n",
              "      <td>2</td>\n",
              "      <td>0</td>\n",
              "      <td>...</td>\n",
              "      <td>08212</td>\n",
              "      <td>0821</td>\n",
              "      <td>Baden-Württemberg</td>\n",
              "      <td>Montag</td>\n",
              "      <td>Unfall mit Leichtverletzten</td>\n",
              "      <td>Dunkelheit</td>\n",
              "      <td>nass</td>\n",
              "      <td>Region Mittlerer Oberrhein</td>\n",
              "      <td>Karlsruhe</td>\n",
              "      <td>Stadt</td>\n",
              "    </tr>\n",
              "    <tr>\n",
              "      <th>28447</th>\n",
              "      <td>08</td>\n",
              "      <td>2020</td>\n",
              "      <td>12</td>\n",
              "      <td>18</td>\n",
              "      <td>3</td>\n",
              "      <td>3</td>\n",
              "      <td>0</td>\n",
              "      <td>1</td>\n",
              "      <td>2</td>\n",
              "      <td>1</td>\n",
              "      <td>...</td>\n",
              "      <td>08315</td>\n",
              "      <td>0831</td>\n",
              "      <td>Baden-Württemberg</td>\n",
              "      <td>Dienstag</td>\n",
              "      <td>Unfall mit Leichtverletzten</td>\n",
              "      <td>Dunkelheit</td>\n",
              "      <td>nass</td>\n",
              "      <td>Region Südlicher Oberrhein</td>\n",
              "      <td>Breisach am Rhein</td>\n",
              "      <td>Stadt</td>\n",
              "    </tr>\n",
              "    <tr>\n",
              "      <th>28448</th>\n",
              "      <td>08</td>\n",
              "      <td>2020</td>\n",
              "      <td>12</td>\n",
              "      <td>23</td>\n",
              "      <td>4</td>\n",
              "      <td>3</td>\n",
              "      <td>8</td>\n",
              "      <td>7</td>\n",
              "      <td>2</td>\n",
              "      <td>0</td>\n",
              "      <td>...</td>\n",
              "      <td>08125</td>\n",
              "      <td>0812</td>\n",
              "      <td>Baden-Württemberg</td>\n",
              "      <td>Mittwoch</td>\n",
              "      <td>Unfall mit Leichtverletzten</td>\n",
              "      <td>Dunkelheit</td>\n",
              "      <td>nass</td>\n",
              "      <td>Region Heilbronn-Franken</td>\n",
              "      <td>Weinsberg</td>\n",
              "      <td>Stadt</td>\n",
              "    </tr>\n",
              "    <tr>\n",
              "      <th>28449</th>\n",
              "      <td>08</td>\n",
              "      <td>2020</td>\n",
              "      <td>12</td>\n",
              "      <td>8</td>\n",
              "      <td>3</td>\n",
              "      <td>3</td>\n",
              "      <td>4</td>\n",
              "      <td>6</td>\n",
              "      <td>0</td>\n",
              "      <td>0</td>\n",
              "      <td>...</td>\n",
              "      <td>08315</td>\n",
              "      <td>0831</td>\n",
              "      <td>Baden-Württemberg</td>\n",
              "      <td>Dienstag</td>\n",
              "      <td>Unfall mit Leichtverletzten</td>\n",
              "      <td>Tageslicht</td>\n",
              "      <td>nass</td>\n",
              "      <td>Region Südlicher Oberrhein</td>\n",
              "      <td>Umkirch</td>\n",
              "      <td>Gemeinde</td>\n",
              "    </tr>\n",
              "  </tbody>\n",
              "</table>\n",
              "<p>28450 rows × 27 columns</p>\n",
              "</div>\n",
              "      <button class=\"colab-df-convert\" onclick=\"convertToInteractive('df-cf976128-235a-45d8-b0cc-99c12a4494da')\"\n",
              "              title=\"Convert this dataframe to an interactive table.\"\n",
              "              style=\"display:none;\">\n",
              "        \n",
              "  <svg xmlns=\"http://www.w3.org/2000/svg\" height=\"24px\"viewBox=\"0 0 24 24\"\n",
              "       width=\"24px\">\n",
              "    <path d=\"M0 0h24v24H0V0z\" fill=\"none\"/>\n",
              "    <path d=\"M18.56 5.44l.94 2.06.94-2.06 2.06-.94-2.06-.94-.94-2.06-.94 2.06-2.06.94zm-11 1L8.5 8.5l.94-2.06 2.06-.94-2.06-.94L8.5 2.5l-.94 2.06-2.06.94zm10 10l.94 2.06.94-2.06 2.06-.94-2.06-.94-.94-2.06-.94 2.06-2.06.94z\"/><path d=\"M17.41 7.96l-1.37-1.37c-.4-.4-.92-.59-1.43-.59-.52 0-1.04.2-1.43.59L10.3 9.45l-7.72 7.72c-.78.78-.78 2.05 0 2.83L4 21.41c.39.39.9.59 1.41.59.51 0 1.02-.2 1.41-.59l7.78-7.78 2.81-2.81c.8-.78.8-2.07 0-2.86zM5.41 20L4 18.59l7.72-7.72 1.47 1.35L5.41 20z\"/>\n",
              "  </svg>\n",
              "      </button>\n",
              "      \n",
              "  <style>\n",
              "    .colab-df-container {\n",
              "      display:flex;\n",
              "      flex-wrap:wrap;\n",
              "      gap: 12px;\n",
              "    }\n",
              "\n",
              "    .colab-df-convert {\n",
              "      background-color: #E8F0FE;\n",
              "      border: none;\n",
              "      border-radius: 50%;\n",
              "      cursor: pointer;\n",
              "      display: none;\n",
              "      fill: #1967D2;\n",
              "      height: 32px;\n",
              "      padding: 0 0 0 0;\n",
              "      width: 32px;\n",
              "    }\n",
              "\n",
              "    .colab-df-convert:hover {\n",
              "      background-color: #E2EBFA;\n",
              "      box-shadow: 0px 1px 2px rgba(60, 64, 67, 0.3), 0px 1px 3px 1px rgba(60, 64, 67, 0.15);\n",
              "      fill: #174EA6;\n",
              "    }\n",
              "\n",
              "    [theme=dark] .colab-df-convert {\n",
              "      background-color: #3B4455;\n",
              "      fill: #D2E3FC;\n",
              "    }\n",
              "\n",
              "    [theme=dark] .colab-df-convert:hover {\n",
              "      background-color: #434B5C;\n",
              "      box-shadow: 0px 1px 3px 1px rgba(0, 0, 0, 0.15);\n",
              "      filter: drop-shadow(0px 1px 2px rgba(0, 0, 0, 0.3));\n",
              "      fill: #FFFFFF;\n",
              "    }\n",
              "  </style>\n",
              "\n",
              "      <script>\n",
              "        const buttonEl =\n",
              "          document.querySelector('#df-cf976128-235a-45d8-b0cc-99c12a4494da button.colab-df-convert');\n",
              "        buttonEl.style.display =\n",
              "          google.colab.kernel.accessAllowed ? 'block' : 'none';\n",
              "\n",
              "        async function convertToInteractive(key) {\n",
              "          const element = document.querySelector('#df-cf976128-235a-45d8-b0cc-99c12a4494da');\n",
              "          const dataTable =\n",
              "            await google.colab.kernel.invokeFunction('convertToInteractive',\n",
              "                                                     [key], {});\n",
              "          if (!dataTable) return;\n",
              "\n",
              "          const docLinkHtml = 'Like what you see? Visit the ' +\n",
              "            '<a target=\"_blank\" href=https://colab.research.google.com/notebooks/data_table.ipynb>data table notebook</a>'\n",
              "            + ' to learn more about interactive tables.';\n",
              "          element.innerHTML = '';\n",
              "          dataTable['output_type'] = 'display_data';\n",
              "          await google.colab.output.renderOutput(dataTable, element);\n",
              "          const docLink = document.createElement('div');\n",
              "          docLink.innerHTML = docLinkHtml;\n",
              "          element.appendChild(docLink);\n",
              "        }\n",
              "      </script>\n",
              "    </div>\n",
              "  </div>\n",
              "  "
            ]
          },
          "metadata": {},
          "execution_count": 912
        }
      ]
    },
    {
      "cell_type": "markdown",
      "source": [
        "IstRad: numerische Analyse der Fahrrad-Unfälle"
      ],
      "metadata": {
        "id": "RkMmSIj8zUxR"
      }
    },
    {
      "cell_type": "code",
      "source": [
        "u_rad_monat = pd.crosstab(traffic_bawü[\"UMONAT\"], traffic_bawü[\"IstRad\"])\n",
        "u_rad_monat.plot(kind='bar')\n",
        "plt.ylabel('Anzahl')\n",
        "plt.xlabel('Monate')\n",
        "plt.title('Unfallrate zu Monaten (Unfall ist 1)')\n",
        "plt.show()"
      ],
      "metadata": {
        "colab": {
          "base_uri": "https://localhost:8080/",
          "height": 298
        },
        "id": "-hICubAOyypa",
        "outputId": "dd880ac7-533d-4cc7-ed38-26a3424071f0"
      },
      "execution_count": 890,
      "outputs": [
        {
          "output_type": "display_data",
          "data": {
            "text/plain": [
              "<Figure size 432x288 with 1 Axes>"
            ],
            "image/png": "[encoded data removed]"
          },
          "metadata": {
            "needs_background": "light"
          }
        }
      ]
    },
    {
      "cell_type": "code",
      "source": [
        "u_rad_kategorie = pd.crosstab(traffic_bawü[\"UKATEGORIE\"], traffic_bawü[\"IstRad\"])\n",
        "u_rad_kategorie.plot(kind='bar')\n",
        "plt.ylabel('Anzahl')\n",
        "plt.xlabel('Unfall Kategorie')\n",
        "plt.title('Unfallrate zu Kategorie (Unfall ist 1)')\n",
        "plt.show()"
      ],
      "metadata": {
        "colab": {
          "base_uri": "https://localhost:8080/",
          "height": 292
        },
        "id": "jCG5gfym2Jb9",
        "outputId": "ba8a9e9d-082d-4f2d-ecc4-b012732a4dab"
      },
      "execution_count": 891,
      "outputs": [
        {
          "output_type": "display_data",
          "data": {
            "text/plain": [
              "<Figure size 432x288 with 1 Axes>"
            ],
            "image/png": "[encoded data removed]"
          },
          "metadata": {
            "needs_background": "light"
          }
        }
      ]
    },
    {
      "cell_type": "code",
      "source": [
        "u_rad_wochentag = pd.crosstab(traffic_bawü[\"Wochentag\"], traffic_bawü[\"IstRad\"])\n",
        "u_rad_wochentag.plot(kind='bar')\n",
        "plt.ylabel('Anzahl')\n",
        "plt.xlabel('Wochentage')\n",
        "plt.title('Unfallrate zu Wochentage (Unfall ist 1)')\n",
        "plt.show()"
      ],
      "metadata": {
        "colab": {
          "base_uri": "https://localhost:8080/",
          "height": 344
        },
        "id": "T0oPmGlg5ssV",
        "outputId": "bfee07e1-4365-435d-fb4f-ad10f1ebd5e1"
      },
      "execution_count": 892,
      "outputs": [
        {
          "output_type": "display_data",
          "data": {
            "text/plain": [
              "<Figure size 432x288 with 1 Axes>"
            ],
            "image/png": "[encoded data removed]"
          },
          "metadata": {
            "needs_background": "light"
          }
        }
      ]
    },
    {
      "cell_type": "code",
      "source": [
        "Fahrrad = sum(traffic_bawü.IstRad == 1)\n",
        "PKW = sum(traffic_bawü.IstPKW == 1)\n",
        "Fuss = sum(traffic_bawü.IstFuss == 1)\n",
        "Motorrad = sum(traffic_bawü.IstKrad == 1)\n",
        "LKW = sum(traffic_bawü.IstGkfz == 1)\n",
        "Sonstige = sum(traffic_bawü.IstSonstige == 1)"
      ],
      "metadata": {
        "id": "8VdOP2HI6cx9"
      },
      "execution_count": 893,
      "outputs": []
    },
    {
      "cell_type": "code",
      "source": [
        "labels = 'Fahrrad', 'PKW', 'Fuss', 'Motorrad', 'LKW', 'Sonstige'\n",
        "sizes = [Fahrrad, PKW, Fuss, Motorrad, LKW, Sonstige]\n",
        "explode = (0.1, 0.1, 0.2, 0.2, 0.2, 0.2)\n",
        "\n",
        "fig1, ax1 = plt.subplots()\n",
        "ax1.pie(sizes, explode=explode, labels=labels, autopct='%1.1f%%',\n",
        "        shadow=True, startangle=90)\n",
        "ax1.axis('equal')\n",
        "\n",
        "plt.show()"
      ],
      "metadata": {
        "colab": {
          "base_uri": "https://localhost:8080/",
          "height": 251
        },
        "id": "VbnibqgC7r0G",
        "outputId": "cffc96a6-0f90-4db4-a436-d610def13444"
      },
      "execution_count": 894,
      "outputs": [
        {
          "output_type": "display_data",
          "data": {
            "text/plain": [
              "<Figure size 432x288 with 1 Axes>"
            ],
            "image/png": "[encoded data removed]"
          },
          "metadata": {}
        }
      ]
    },
    {
      "cell_type": "code",
      "source": [
        "traffic_bawü.dtypes"
      ],
      "metadata": {
        "colab": {
          "base_uri": "https://localhost:8080/"
        },
        "id": "rYagBqDBQAfM",
        "outputId": "d69c8229-bd8d-4789-d80a-71a4dd545470"
      },
      "execution_count": 895,
      "outputs": [
        {
          "output_type": "execute_result",
          "data": {
            "text/plain": [
              "ULAND               object\n",
              "UJAHR                int64\n",
              "UMONAT               int64\n",
              "USTUNDE              int64\n",
              "UWOCHENTAG           int64\n",
              "UKATEGORIE           int64\n",
              "UART                 int64\n",
              "UTYP1                int64\n",
              "ULICHTVERH           int64\n",
              "IstRad               int64\n",
              "IstPKW               int64\n",
              "IstFuss              int64\n",
              "IstKrad              int64\n",
              "IstGkfz              int64\n",
              "IstSonstige          int64\n",
              "STRZUSTAND           int64\n",
              "ags_nr               int64\n",
              "kreis_nr            object\n",
              "region_nr           object\n",
              "ULAND_NAME          object\n",
              "Wochentag           object\n",
              "Unfallkategorie     object\n",
              "Lichtverhaeltnis    object\n",
              "Straßenzustand      object\n",
              "Region              object\n",
              "Gemeinde_Name       object\n",
              "Gemeinde_Art        object\n",
              "dtype: object"
            ]
          },
          "metadata": {},
          "execution_count": 895
        }
      ]
    },
    {
      "cell_type": "code",
      "source": [
        "df_wochentag = traffic_bawü.groupby('Wochentag').sum()[['IstRad', 'IstPKW','IstFuss','IstKrad', 'IstGkfz', 'IstSonstige']]\n",
        "df_wochentag.plot(kind='bar', stacked=True, color=['red', 'skyblue', 'green', 'yellow', 'orange', 'darkblue'])\n",
        " \n",
        "plt.xlabel('Wochentage')\n",
        "plt.ylabel('Anzahl Unfälle')\n",
        " \n",
        "plt.title('Unfälle pro Wochentag')"
      ],
      "metadata": {
        "colab": {
          "base_uri": "https://localhost:8080/",
          "height": 361
        },
        "id": "outSsK4VNo4e",
        "outputId": "403e690a-c70b-41b4-d258-7ad2de63fcd2"
      },
      "execution_count": 896,
      "outputs": [
        {
          "output_type": "execute_result",
          "data": {
            "text/plain": [
              "Text(0.5, 1.0, 'Unfälle pro Wochentag')"
            ]
          },
          "metadata": {},
          "execution_count": 896
        },
        {
          "output_type": "display_data",
          "data": {
            "text/plain": [
              "<Figure size 432x288 with 1 Axes>"
            ],
            "image/png": "[encoded data removed]"
          },
          "metadata": {
            "needs_background": "light"
          }
        }
      ]
    },
    {
      "cell_type": "code",
      "source": [
        "df_monat = traffic_bawü.groupby('UMONAT').sum()[['IstRad', 'IstPKW','IstFuss','IstKrad', 'IstGkfz', 'IstSonstige']]\n",
        "df_monat.plot(kind='bar', stacked=True, color=['red', 'skyblue', 'green', 'yellow', 'orange', 'darkblue'])\n",
        " \n",
        "plt.xlabel('Monate')\n",
        "plt.ylabel('Anzahl Unfälle')\n",
        " \n",
        "plt.title('Unfälle pro Monat')"
      ],
      "metadata": {
        "colab": {
          "base_uri": "https://localhost:8080/",
          "height": 315
        },
        "id": "4hMT-ExwP2lx",
        "outputId": "5ca26ed1-f44d-4bf6-e9dd-29b962f94285"
      },
      "execution_count": 897,
      "outputs": [
        {
          "output_type": "execute_result",
          "data": {
            "text/plain": [
              "Text(0.5, 1.0, 'Unfälle pro Monat')"
            ]
          },
          "metadata": {},
          "execution_count": 897
        },
        {
          "output_type": "display_data",
          "data": {
            "text/plain": [
              "<Figure size 432x288 with 1 Axes>"
            ],
            "image/png": "[encoded data removed]"
          },
          "metadata": {
            "needs_background": "light"
          }
        }
      ]
    },
    {
      "cell_type": "code",
      "source": [
        "df_stunde = traffic_bawü.groupby('USTUNDE').sum()[['IstRad', 'IstPKW','IstFuss','IstKrad', 'IstGkfz', 'IstSonstige']]\n",
        "df_stunde.plot(kind='bar', stacked=True, color=['red', 'skyblue', 'green', 'yellow', 'orange', 'darkblue'])\n",
        " \n",
        "plt.xlabel('Stunden')\n",
        "plt.ylabel('Anzahl Unfälle')\n",
        " \n",
        "plt.title('Unfälle pro Stunde')"
      ],
      "metadata": {
        "colab": {
          "base_uri": "https://localhost:8080/",
          "height": 315
        },
        "id": "0C7on-vhQLYA",
        "outputId": "dbb888dd-135b-423b-9b8b-589564986320"
      },
      "execution_count": 898,
      "outputs": [
        {
          "output_type": "execute_result",
          "data": {
            "text/plain": [
              "Text(0.5, 1.0, 'Unfälle pro Stunde')"
            ]
          },
          "metadata": {},
          "execution_count": 898
        },
        {
          "output_type": "display_data",
          "data": {
            "text/plain": [
              "<Figure size 432x288 with 1 Axes>"
            ],
            "image/png": "[encoded data removed]"
          },
          "metadata": {
            "needs_background": "light"
          }
        }
      ]
    },
    {
      "cell_type": "code",
      "source": [
        "df_art = traffic_bawü.groupby('UART').sum()[['IstRad', 'IstPKW','IstFuss','IstKrad', 'IstGkfz', 'IstSonstige']]\n",
        "df_art.plot(kind='bar', stacked=True, color=['red', 'skyblue', 'green', 'yellow', 'orange', 'darkblue'])\n",
        " \n",
        "plt.xlabel('Unfall Art')\n",
        "plt.ylabel('Anzahl Unfälle')\n",
        " \n",
        "plt.title('Unfälle pro Unfall Art')"
      ],
      "metadata": {
        "colab": {
          "base_uri": "https://localhost:8080/",
          "height": 309
        },
        "id": "q5FXtzq2QTx4",
        "outputId": "a6bba293-265f-43bc-b111-80b4ae5163bb"
      },
      "execution_count": 899,
      "outputs": [
        {
          "output_type": "execute_result",
          "data": {
            "text/plain": [
              "Text(0.5, 1.0, 'Unfälle pro Unfall Art')"
            ]
          },
          "metadata": {},
          "execution_count": 899
        },
        {
          "output_type": "display_data",
          "data": {
            "text/plain": [
              "<Figure size 432x288 with 1 Axes>"
            ],
            "image/png": "[encoded data removed]"
          },
          "metadata": {
            "needs_background": "light"
          }
        }
      ]
    },
    {
      "cell_type": "code",
      "source": [
        "df_typ = traffic_bawü.groupby('UTYP1').sum()[['IstRad', 'IstPKW','IstFuss','IstKrad', 'IstGkfz', 'IstSonstige']]\n",
        "df_typ.plot(kind='bar', stacked=True, color=['red', 'skyblue', 'green', 'yellow', 'orange', 'darkblue'])\n",
        " \n",
        "plt.xlabel('Typ')\n",
        "plt.ylabel('Anzahl Unfälle')\n",
        " \n",
        "plt.title('Unfälle pro Unfall Typ')"
      ],
      "metadata": {
        "colab": {
          "base_uri": "https://localhost:8080/",
          "height": 309
        },
        "id": "nMHGaI_MQauv",
        "outputId": "b40e3dce-e91c-4ef8-e9ba-2f45780fa345"
      },
      "execution_count": 900,
      "outputs": [
        {
          "output_type": "execute_result",
          "data": {
            "text/plain": [
              "Text(0.5, 1.0, 'Unfälle pro Unfall Typ')"
            ]
          },
          "metadata": {},
          "execution_count": 900
        },
        {
          "output_type": "display_data",
          "data": {
            "text/plain": [
              "<Figure size 432x288 with 1 Axes>"
            ],
            "image/png": "[encoded data removed]"
          },
          "metadata": {
            "needs_background": "light"
          }
        }
      ]
    },
    {
      "cell_type": "code",
      "source": [
        "df_land = traffic_bawü.groupby('ULAND_NAME').sum()[['IstRad', 'IstPKW','IstFuss','IstKrad', 'IstGkfz', 'IstSonstige']]\n",
        "df_land.plot(kind='bar', stacked=True, color=['red', 'skyblue', 'green', 'yellow', 'orange', 'darkblue'])\n",
        " \n",
        "plt.xlabel('Bundesland')\n",
        "plt.ylabel('Anzahl Unfälle')\n",
        " \n",
        "plt.title('Unfälle pro Bundesland')"
      ],
      "metadata": {
        "colab": {
          "base_uri": "https://localhost:8080/",
          "height": 404
        },
        "id": "e_3CrTbIR0uj",
        "outputId": "041b7fab-ea49-4b28-ebe3-84a08cd7635e"
      },
      "execution_count": 901,
      "outputs": [
        {
          "output_type": "execute_result",
          "data": {
            "text/plain": [
              "Text(0.5, 1.0, 'Unfälle pro Bundesland')"
            ]
          },
          "metadata": {},
          "execution_count": 901
        },
        {
          "output_type": "display_data",
          "data": {
            "text/plain": [
              "<Figure size 432x288 with 1 Axes>"
            ],
            "image/png": "[encoded data removed]"
          },
          "metadata": {
            "needs_background": "light"
          }
        }
      ]
    },
    {
      "cell_type": "code",
      "source": [
        "df_kategorie = traffic_bawü.groupby('Unfallkategorie').sum()[['IstRad', 'IstPKW','IstFuss','IstKrad', 'IstGkfz', 'IstSonstige']]\n",
        "df_kategorie.plot(kind='bar', stacked=True, color=['red', 'skyblue', 'green', 'yellow', 'orange', 'darkblue'])\n",
        " \n",
        "plt.xlabel('Unfall Kategorie')\n",
        "plt.ylabel('Anzahl Unfälle')\n",
        " \n",
        "plt.title('Unfälle pro Kategorie')"
      ],
      "metadata": {
        "colab": {
          "base_uri": "https://localhost:8080/",
          "height": 441
        },
        "id": "GgsDRETfSYvy",
        "outputId": "0b8dd1fa-47a4-4c07-afcc-f3eab107a907"
      },
      "execution_count": 902,
      "outputs": [
        {
          "output_type": "execute_result",
          "data": {
            "text/plain": [
              "Text(0.5, 1.0, 'Unfälle pro Kategorie')"
            ]
          },
          "metadata": {},
          "execution_count": 902
        },
        {
          "output_type": "display_data",
          "data": {
            "text/plain": [
              "<Figure size 432x288 with 1 Axes>"
            ],
            "image/png": "[encoded data removed]"
          },
          "metadata": {
            "needs_background": "light"
          }
        }
      ]
    },
    {
      "cell_type": "code",
      "source": [
        "df_licht = traffic_bawü.groupby('Lichtverhaeltnis').sum()[['IstRad', 'IstPKW','IstFuss','IstKrad', 'IstGkfz', 'IstSonstige']]\n",
        "df_licht.plot(kind='bar', stacked=True, color=['red', 'skyblue', 'green', 'yellow', 'orange', 'darkblue'])\n",
        " \n",
        "plt.xlabel('Lichtverhaeltnis')\n",
        "plt.ylabel('Anzahl Unfälle')\n",
        " \n",
        "plt.title('Unfälle pro Lichtverhaeltnis')"
      ],
      "metadata": {
        "colab": {
          "base_uri": "https://localhost:8080/",
          "height": 365
        },
        "id": "otxD9PLxTHOr",
        "outputId": "04ee7df3-9c95-47ff-cd08-4fa42c5ed210"
      },
      "execution_count": 903,
      "outputs": [
        {
          "output_type": "execute_result",
          "data": {
            "text/plain": [
              "Text(0.5, 1.0, 'Unfälle pro Lichtverhaeltnis')"
            ]
          },
          "metadata": {},
          "execution_count": 903
        },
        {
          "output_type": "display_data",
          "data": {
            "text/plain": [
              "<Figure size 432x288 with 1 Axes>"
            ],
            "image/png": "[encoded data removed]"
          },
          "metadata": {
            "needs_background": "light"
          }
        }
      ]
    },
    {
      "cell_type": "code",
      "source": [
        "df_strzustand = traffic_bawü.groupby('Straßenzustand').sum()[['IstRad', 'IstPKW','IstFuss','IstKrad', 'IstGkfz', 'IstSonstige']]\n",
        "df_strzustand.plot(kind='bar', stacked=True, color=['red', 'skyblue', 'green', 'yellow', 'orange', 'darkblue'])\n",
        " \n",
        "plt.xlabel('Straßenzustand')\n",
        "plt.ylabel('Anzahl Unfälle')\n",
        " \n",
        "plt.title('Unfälle pro Straßenzustand')"
      ],
      "metadata": {
        "colab": {
          "base_uri": "https://localhost:8080/",
          "height": 357
        },
        "id": "Z6uu00alTUGy",
        "outputId": "d8d1ad50-08d4-4e49-fb90-c0a0e5dfe09b"
      },
      "execution_count": 904,
      "outputs": [
        {
          "output_type": "execute_result",
          "data": {
            "text/plain": [
              "Text(0.5, 1.0, 'Unfälle pro Straßenzustand')"
            ]
          },
          "metadata": {},
          "execution_count": 904
        },
        {
          "output_type": "display_data",
          "data": {
            "text/plain": [
              "<Figure size 432x288 with 1 Axes>"
            ],
            "image/png": "[encoded data removed]"
          },
          "metadata": {
            "needs_background": "light"
          }
        }
      ]
    },
    {
      "cell_type": "code",
      "source": [
        "df_region = traffic_bawü.groupby('Region').sum()[['IstRad', 'IstPKW','IstFuss','IstKrad', 'IstGkfz', 'IstSonstige']]\n",
        "df_region.plot(kind='bar', stacked=True, color=['red', 'skyblue', 'green', 'yellow', 'orange', 'darkblue'])\n",
        " \n",
        "plt.xlabel('Region')\n",
        "plt.ylabel('Anzahl Unfälle')\n",
        " \n",
        "plt.title('Unfälle pro Region')"
      ],
      "metadata": {
        "colab": {
          "base_uri": "https://localhost:8080/",
          "height": 477
        },
        "id": "m4gMIOomTo4d",
        "outputId": "940001f5-b2f3-4735-dfa1-1524ac1106ff"
      },
      "execution_count": 905,
      "outputs": [
        {
          "output_type": "execute_result",
          "data": {
            "text/plain": [
              "Text(0.5, 1.0, 'Unfälle pro Region')"
            ]
          },
          "metadata": {},
          "execution_count": 905
        },
        {
          "output_type": "display_data",
          "data": {
            "text/plain": [
              "<Figure size 432x288 with 1 Axes>"
            ],
            "image/png": "[encoded data removed]"
          },
          "metadata": {
            "needs_background": "light"
          }
        }
      ]
    },
    {
      "cell_type": "code",
      "source": [
        "df_gemeinde_art = traffic_bawü.groupby('Gemeinde_Art').sum()[['IstRad', 'IstPKW','IstFuss','IstKrad', 'IstGkfz', 'IstSonstige']]\n",
        "df_gemeinde_art.plot(kind='bar', stacked=True, color=['red', 'skyblue', 'green', 'yellow', 'orange', 'darkblue'])\n",
        " \n",
        "plt.xlabel('Gemeinde Art')\n",
        "plt.ylabel('Anzahl Unfälle')\n",
        " \n",
        "plt.title('Unfälle pro Gemeinde Art')"
      ],
      "metadata": {
        "colab": {
          "base_uri": "https://localhost:8080/",
          "height": 396
        },
        "id": "zIIjPjgsUGz0",
        "outputId": "6d1cb908-0274-4374-8598-6c1923776c55"
      },
      "execution_count": 909,
      "outputs": [
        {
          "output_type": "execute_result",
          "data": {
            "text/plain": [
              "Text(0.5, 1.0, 'Unfälle pro Gemeinde Art')"
            ]
          },
          "metadata": {},
          "execution_count": 909
        },
        {
          "output_type": "display_data",
          "data": {
            "text/plain": [
              "<Figure size 432x288 with 1 Axes>"
            ],
            "image/png": "[encoded data removed]"
          },
          "metadata": {
            "needs_background": "light"
          }
        }
      ]
    },
    {
      "cell_type": "code",
      "source": [
        "df_gemeinde = traffic_bawü.groupby('Gemeinde_Name').sum()[['IstRad', 'IstPKW','IstFuss','IstKrad', 'IstGkfz', 'IstSonstige']]\n",
        "df_gemeinde.plot(kind='bar', stacked=True, color=['red', 'skyblue', 'green', 'yellow', 'orange', 'darkblue'])\n",
        " \n",
        "plt.xlabel('Gemeinde')\n",
        "plt.ylabel('Anzahl Unfälle')\n",
        " \n",
        "plt.title('Unfälle pro Gemeinde')"
      ],
      "metadata": {
        "colab": {
          "base_uri": "https://localhost:8080/",
          "height": 708
        },
        "id": "Ah6iHV52Ty70",
        "outputId": "238244e8-aec4-43d0-a54f-7253ed82ea9d"
      },
      "execution_count": 913,
      "outputs": [
        {
          "output_type": "execute_result",
          "data": {
            "text/plain": [
              "Text(0.5, 1.0, 'Unfälle pro Gemeinde')"
            ]
          },
          "metadata": {},
          "execution_count": 913
        },
        {
          "output_type": "display_data",
          "data": {
            "text/plain": [
              "<Figure size 842.4x595.44 with 1 Axes>"
            ],
            "image/png": "[encoded data removed]"
          },
          "metadata": {}
        }
      ]
    }
  ]
}